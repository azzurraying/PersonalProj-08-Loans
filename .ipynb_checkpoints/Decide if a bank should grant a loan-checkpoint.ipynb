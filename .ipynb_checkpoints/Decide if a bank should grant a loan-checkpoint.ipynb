{
 "cells": [
  {
   "cell_type": "markdown",
   "metadata": {},
   "source": [
    "\n",
    "# Background\n",
    "\n",
    "We are given a bank's loan records with information of individuals who have applied for loans. Some of the loans are approved and some are rejected. Out of the approved loans, some were repaid, and others were defaulted. The goal is to investigate if we could build a better model for the bank by examinig its loan data.\n",
    "\n",
    "We take the approach of building a model that predicts whether an individual, if granted a loan, will repay the loan or not. With this model, we then predict how many of those who've been denied loans could have been good customers who repay their loans fully. The percentage of individuals who should've been granted loans could translate to an increase of financial returns for the bank for not denying good business."
   ]
  },
  {
   "cell_type": "markdown",
   "metadata": {},
   "source": [
    "# Import libraries"
   ]
  },
  {
   "cell_type": "code",
   "execution_count": 1,
   "metadata": {
    "collapsed": false
   },
   "outputs": [
    {
     "name": "stderr",
     "output_type": "stream",
     "text": [
      "/Users/yingjiang/miniconda2/lib/python2.7/site-packages/sklearn/cross_validation.py:44: DeprecationWarning: This module was deprecated in version 0.18 in favor of the model_selection module into which all the refactored classes and functions are moved. Also note that the interface of the new CV iterators are different from that of this module. This module will be removed in 0.20.\n",
      "  \"This module will be removed in 0.20.\", DeprecationWarning)\n"
     ]
    }
   ],
   "source": [
    "import zipfile\n",
    "import os\n",
    "import random\n",
    "import collections\n",
    "\n",
    "import numpy as np\n",
    "import pandas as pd\n",
    "import matplotlib.pyplot as plt\n",
    "import seaborn as sns\n",
    "\n",
    "from sklearn.neighbors import KNeighborsClassifier, KNeighborsRegressor\n",
    "from sklearn.preprocessing import LabelEncoder, MinMaxScaler\n",
    "from sklearn import model_selection\n",
    "from sklearn import cross_validation\n",
    "from sklearn import preprocessing\n",
    "from sklearn import svm\n",
    "from sklearn import linear_model\n",
    "from sklearn import tree\n",
    "from sklearn import ensemble # RandomForestClassifier\n",
    "from sklearn.naive_bayes import GaussianNB\n",
    "from sklearn import metrics\n",
    "from sklearn.feature_selection import SelectFromModel\n",
    "%matplotlib inline"
   ]
  },
  {
   "cell_type": "markdown",
   "metadata": {},
   "source": [
    "# User defined functions"
   ]
  },
  {
   "cell_type": "code",
   "execution_count": 96,
   "metadata": {
    "collapsed": true
   },
   "outputs": [],
   "source": [
    "def fill_na_KNN(df, column, model):\n",
    "    \"\"\"Treat missing values as a classification / regresion problem\n",
    "    df = original dataframe with NA cols\n",
    "    column = col you want to impute\n",
    "    model = the classification or regression model used to fill in the NAs\n",
    "    Returns imputed column.\n",
    "    \"\"\"\n",
    "    ## Remove all cols containing NAs, except for the col we want to impute.\n",
    "    # Split the cols with and without missing values\n",
    "    colNAs = df.loc[:, df.isnull().any()]\n",
    "    df = df.dropna(axis=1)\n",
    "    # Join back the col we want to impute\n",
    "    ndf = pd.concat([df, colNAs.loc[:, column]], axis=1)\n",
    "    \n",
    "    ## Split into rows with known (train) and missing values (test)\n",
    "    # Get a row-wise boolean for the rows containing the NAs (in the specified col)\n",
    "    nullmask = ndf[column].isnull()\n",
    "    # The rows containing NAs are the testing data; otherwise the training data\n",
    "    train, test  = ndf[~nullmask], ndf[nullmask]\n",
    "    train_x, train_y = train.drop(column, axis=1), train[column]\n",
    "    test_x, test_y = test.drop(column, axis=1), test[column]\n",
    "    \n",
    "    ## Fit KNN model\n",
    "    model.fit(train_x, train_y)\n",
    "    pred_y = model.predict(test_x)\n",
    "    \n",
    "    ## Stitch together the NA-filled dataset.\n",
    "    # Arrange the rows in the original order to prepare for next imputation.\n",
    "    # Converted the predicted array (np array) into a Series object with the orignal index\n",
    "    pred_y = pd.Series(pred_y, index = test_y.index)\n",
    "    new_y = new_y = pd.concat([train_y, pred_y]).sort_index()\n",
    "\n",
    "    return new_y\n",
    "\n",
    "\n",
    "def performCV(X_train, Y_train, cv, model):\n",
    "    Y_pred = []\n",
    "    Y_true = []\n",
    "    for trainIdx, cvIdx in cv.split(X_train):\n",
    "        Y_pred.append(model.fit(X_train.iloc[trainIdx],\n",
    "                                Y_train.iloc[trainIdx]).predict_proba(X_train.iloc[cvIdx]))\n",
    "        Y_true.append(Y_train.iloc[cvIdx])\n",
    "    return Y_pred, Y_true\n",
    "        \n",
    "def unpackCVResults(Y_pred, Y_true):\n",
    "    Y_pred_unpack = []\n",
    "    Y_true_unpack = []\n",
    "    for yp, yt in zip(Y_pred, Y_true):\n",
    "        Y_pred_unpack.append([pred_val.argmax() for pred_val in yp])\n",
    "        Y_true_unpack.append(list(yt.values))\n",
    "    return Y_pred_unpack, Y_true_unpack\n",
    "\n",
    "def getCVScores(Y_pred_unpack, Y_true_unpack):\n",
    "    cvScore_Acc = []\n",
    "    cvScore_Sens = []\n",
    "    cvScore_Spec = []\n",
    "    cvScore_Prec = []\n",
    "    for yp, yt in zip(Y_pred_unpack, Y_true_unpack):\n",
    "        cm = metrics.confusion_matrix(y_true = yt, y_pred = yp, labels=None)\n",
    "        accuracy, sensitivity, specificity, precision = evalModel(cm)\n",
    "        ## Alternative way of calculating accuracy instead of through cm:\n",
    "        # match = [i for i, j in zip(Y_pred0, Y_true0) if i == j]\n",
    "        # len(match) / float(len(Y_pred0))\n",
    "        cvScore_Acc.append(accuracy)\n",
    "        cvScore_Sens.append(sensitivity)\n",
    "        cvScore_Spec.append(specificity)\n",
    "        cvScore_Prec.append(precision)\n",
    "    cvScore = pd.DataFrame({\n",
    "            'accuracy': cvScore_Acc,\n",
    "            'sensitivity': cvScore_Sens,\n",
    "            'specificity': cvScore_Spec,\n",
    "            'precision': cvScore_Prec,\n",
    "            'recall': cvScore_Sens\n",
    "        })\n",
    "    return cvScore\n",
    "\n",
    "def evalModel(cm):\n",
    "    TN = cm[0][0]\n",
    "    FP = cm[0][1]\n",
    "    FN = cm[1][0]\n",
    "    TP = cm[1][1]\n",
    "    P = FN + TP\n",
    "    N = TN + FP\n",
    "    Acc = (TN + TP) / float(P + N)\n",
    "    sensitivity = TP / float(P)\n",
    "    specificity = TN / float(N)\n",
    "    precision = TP / float(TP+FP)\n",
    "    NPV = TN / float(TN+FN)\n",
    "    FPR = FP / float(FP+TN)\n",
    "    FDR = FP / float(FP+TP)\n",
    "    F1 = 2*TP / float(2*TP + FP + FN)\n",
    "    return Acc, sensitivity, specificity, precision\n",
    "\n"
   ]
  },
  {
   "cell_type": "markdown",
   "metadata": {},
   "source": [
    "# Load data"
   ]
  },
  {
   "cell_type": "code",
   "execution_count": 2,
   "metadata": {
    "collapsed": false
   },
   "outputs": [
    {
     "data": {
      "text/plain": [
       "['.ipynb_checkpoints',\n",
       " 'borrower_table.csv',\n",
       " 'Loan_granting.ipynb',\n",
       " 'Loan_granting.zip',\n",
       " 'loan_table.csv']"
      ]
     },
     "execution_count": 2,
     "metadata": {},
     "output_type": "execute_result"
    }
   ],
   "source": [
    "os.listdir(os.getcwd())"
   ]
  },
  {
   "cell_type": "code",
   "execution_count": 3,
   "metadata": {
    "collapsed": true
   },
   "outputs": [],
   "source": [
    "borrower = pd.read_csv('borrower_table.csv')\n",
    "loan = pd.read_csv('loan_table.csv')"
   ]
  },
  {
   "cell_type": "code",
   "execution_count": 4,
   "metadata": {
    "collapsed": false
   },
   "outputs": [
    {
     "data": {
      "text/html": [
       "<div>\n",
       "<table border=\"1\" class=\"dataframe\">\n",
       "  <thead>\n",
       "    <tr style=\"text-align: right;\">\n",
       "      <th></th>\n",
       "      <th>loan_id</th>\n",
       "      <th>is_first_loan</th>\n",
       "      <th>fully_repaid_previous_loans</th>\n",
       "      <th>currently_repaying_other_loans</th>\n",
       "      <th>total_credit_card_limit</th>\n",
       "      <th>avg_percentage_credit_card_limit_used_last_year</th>\n",
       "      <th>saving_amount</th>\n",
       "      <th>checking_amount</th>\n",
       "      <th>is_employed</th>\n",
       "      <th>yearly_salary</th>\n",
       "      <th>age</th>\n",
       "      <th>dependent_number</th>\n",
       "    </tr>\n",
       "  </thead>\n",
       "  <tbody>\n",
       "    <tr>\n",
       "      <th>0</th>\n",
       "      <td>289774</td>\n",
       "      <td>1</td>\n",
       "      <td>NaN</td>\n",
       "      <td>NaN</td>\n",
       "      <td>8000</td>\n",
       "      <td>0.49</td>\n",
       "      <td>3285</td>\n",
       "      <td>1073</td>\n",
       "      <td>0</td>\n",
       "      <td>0</td>\n",
       "      <td>47</td>\n",
       "      <td>3</td>\n",
       "    </tr>\n",
       "    <tr>\n",
       "      <th>1</th>\n",
       "      <td>482590</td>\n",
       "      <td>0</td>\n",
       "      <td>1.0</td>\n",
       "      <td>0.0</td>\n",
       "      <td>4500</td>\n",
       "      <td>1.03</td>\n",
       "      <td>636</td>\n",
       "      <td>5299</td>\n",
       "      <td>1</td>\n",
       "      <td>13500</td>\n",
       "      <td>33</td>\n",
       "      <td>1</td>\n",
       "    </tr>\n",
       "    <tr>\n",
       "      <th>2</th>\n",
       "      <td>135565</td>\n",
       "      <td>1</td>\n",
       "      <td>NaN</td>\n",
       "      <td>NaN</td>\n",
       "      <td>6900</td>\n",
       "      <td>0.82</td>\n",
       "      <td>2085</td>\n",
       "      <td>3422</td>\n",
       "      <td>1</td>\n",
       "      <td>24500</td>\n",
       "      <td>38</td>\n",
       "      <td>8</td>\n",
       "    </tr>\n",
       "    <tr>\n",
       "      <th>3</th>\n",
       "      <td>207797</td>\n",
       "      <td>0</td>\n",
       "      <td>1.0</td>\n",
       "      <td>0.0</td>\n",
       "      <td>1200</td>\n",
       "      <td>0.82</td>\n",
       "      <td>358</td>\n",
       "      <td>3388</td>\n",
       "      <td>0</td>\n",
       "      <td>0</td>\n",
       "      <td>24</td>\n",
       "      <td>1</td>\n",
       "    </tr>\n",
       "    <tr>\n",
       "      <th>4</th>\n",
       "      <td>828078</td>\n",
       "      <td>0</td>\n",
       "      <td>0.0</td>\n",
       "      <td>0.0</td>\n",
       "      <td>6900</td>\n",
       "      <td>0.80</td>\n",
       "      <td>2138</td>\n",
       "      <td>4282</td>\n",
       "      <td>1</td>\n",
       "      <td>18100</td>\n",
       "      <td>36</td>\n",
       "      <td>1</td>\n",
       "    </tr>\n",
       "  </tbody>\n",
       "</table>\n",
       "</div>"
      ],
      "text/plain": [
       "   loan_id  is_first_loan  fully_repaid_previous_loans  \\\n",
       "0   289774              1                          NaN   \n",
       "1   482590              0                          1.0   \n",
       "2   135565              1                          NaN   \n",
       "3   207797              0                          1.0   \n",
       "4   828078              0                          0.0   \n",
       "\n",
       "   currently_repaying_other_loans  total_credit_card_limit  \\\n",
       "0                             NaN                     8000   \n",
       "1                             0.0                     4500   \n",
       "2                             NaN                     6900   \n",
       "3                             0.0                     1200   \n",
       "4                             0.0                     6900   \n",
       "\n",
       "   avg_percentage_credit_card_limit_used_last_year  saving_amount  \\\n",
       "0                                             0.49           3285   \n",
       "1                                             1.03            636   \n",
       "2                                             0.82           2085   \n",
       "3                                             0.82            358   \n",
       "4                                             0.80           2138   \n",
       "\n",
       "   checking_amount  is_employed  yearly_salary  age  dependent_number  \n",
       "0             1073            0              0   47                 3  \n",
       "1             5299            1          13500   33                 1  \n",
       "2             3422            1          24500   38                 8  \n",
       "3             3388            0              0   24                 1  \n",
       "4             4282            1          18100   36                 1  "
      ]
     },
     "execution_count": 4,
     "metadata": {},
     "output_type": "execute_result"
    }
   ],
   "source": [
    "borrower.head()"
   ]
  },
  {
   "cell_type": "code",
   "execution_count": 5,
   "metadata": {
    "collapsed": false
   },
   "outputs": [
    {
     "data": {
      "text/html": [
       "<div>\n",
       "<table border=\"1\" class=\"dataframe\">\n",
       "  <thead>\n",
       "    <tr style=\"text-align: right;\">\n",
       "      <th></th>\n",
       "      <th>loan_id</th>\n",
       "      <th>loan_purpose</th>\n",
       "      <th>date</th>\n",
       "      <th>loan_granted</th>\n",
       "      <th>loan_repaid</th>\n",
       "    </tr>\n",
       "  </thead>\n",
       "  <tbody>\n",
       "    <tr>\n",
       "      <th>0</th>\n",
       "      <td>19454</td>\n",
       "      <td>investment</td>\n",
       "      <td>2012-03-15</td>\n",
       "      <td>0</td>\n",
       "      <td>NaN</td>\n",
       "    </tr>\n",
       "    <tr>\n",
       "      <th>1</th>\n",
       "      <td>496811</td>\n",
       "      <td>investment</td>\n",
       "      <td>2012-01-17</td>\n",
       "      <td>0</td>\n",
       "      <td>NaN</td>\n",
       "    </tr>\n",
       "    <tr>\n",
       "      <th>2</th>\n",
       "      <td>929493</td>\n",
       "      <td>other</td>\n",
       "      <td>2012-02-09</td>\n",
       "      <td>0</td>\n",
       "      <td>NaN</td>\n",
       "    </tr>\n",
       "    <tr>\n",
       "      <th>3</th>\n",
       "      <td>580653</td>\n",
       "      <td>other</td>\n",
       "      <td>2012-06-27</td>\n",
       "      <td>1</td>\n",
       "      <td>1.0</td>\n",
       "    </tr>\n",
       "    <tr>\n",
       "      <th>4</th>\n",
       "      <td>172419</td>\n",
       "      <td>business</td>\n",
       "      <td>2012-05-21</td>\n",
       "      <td>1</td>\n",
       "      <td>0.0</td>\n",
       "    </tr>\n",
       "  </tbody>\n",
       "</table>\n",
       "</div>"
      ],
      "text/plain": [
       "   loan_id loan_purpose        date  loan_granted  loan_repaid\n",
       "0    19454   investment  2012-03-15             0          NaN\n",
       "1   496811   investment  2012-01-17             0          NaN\n",
       "2   929493        other  2012-02-09             0          NaN\n",
       "3   580653        other  2012-06-27             1          1.0\n",
       "4   172419     business  2012-05-21             1          0.0"
      ]
     },
     "execution_count": 5,
     "metadata": {},
     "output_type": "execute_result"
    }
   ],
   "source": [
    "loan.head()"
   ]
  },
  {
   "cell_type": "markdown",
   "metadata": {},
   "source": [
    "# Clean data\n",
    "\n",
    "## 1. Merge data"
   ]
  },
  {
   "cell_type": "markdown",
   "metadata": {},
   "source": [
    "Overall goal here is to predict if a loan should be granted to an individual or not. We therefore use the individuals who've been granted loans (loan_granted = 1) to train our model. We then use the denied rows (loan_granted = 0) as the test set, to see how many of these denied folks are actually predicted to honestly return their loans. This will be the money the bank lost."
   ]
  },
  {
   "cell_type": "code",
   "execution_count": 6,
   "metadata": {
    "collapsed": false
   },
   "outputs": [
    {
     "name": "stdout",
     "output_type": "stream",
     "text": [
      "Index([u'loan_id', u'is_first_loan', u'fully_repaid_previous_loans',\n",
      "       u'currently_repaying_other_loans', u'total_credit_card_limit',\n",
      "       u'avg_percentage_credit_card_limit_used_last_year', u'saving_amount',\n",
      "       u'checking_amount', u'is_employed', u'yearly_salary', u'age',\n",
      "       u'dependent_number'],\n",
      "      dtype='object')\n",
      "(101100, 12)\n",
      "Index([u'loan_id', u'loan_purpose', u'date', u'loan_granted', u'loan_repaid'], dtype='object')\n",
      "(101100, 5)\n"
     ]
    }
   ],
   "source": [
    "print borrower.columns\n",
    "print borrower.shape\n",
    "print loan.columns\n",
    "print loan.shape"
   ]
  },
  {
   "cell_type": "code",
   "execution_count": 7,
   "metadata": {
    "collapsed": true
   },
   "outputs": [],
   "source": [
    "loanData = pd.merge(borrower, loan, how='inner', on='loan_id')"
   ]
  },
  {
   "cell_type": "code",
   "execution_count": 8,
   "metadata": {
    "collapsed": false
   },
   "outputs": [
    {
     "name": "stdout",
     "output_type": "stream",
     "text": [
      "Index([u'loan_id', u'is_first_loan', u'fully_repaid_previous_loans',\n",
      "       u'currently_repaying_other_loans', u'total_credit_card_limit',\n",
      "       u'avg_percentage_credit_card_limit_used_last_year', u'saving_amount',\n",
      "       u'checking_amount', u'is_employed', u'yearly_salary', u'age',\n",
      "       u'dependent_number', u'loan_purpose', u'date', u'loan_granted',\n",
      "       u'loan_repaid'],\n",
      "      dtype='object')\n",
      "(101100, 16)\n"
     ]
    }
   ],
   "source": [
    "print loanData.columns\n",
    "print loanData.shape"
   ]
  },
  {
   "cell_type": "code",
   "execution_count": 9,
   "metadata": {
    "collapsed": false
   },
   "outputs": [
    {
     "name": "stdout",
     "output_type": "stream",
     "text": [
      "(47654, 15)\n"
     ]
    },
    {
     "name": "stderr",
     "output_type": "stream",
     "text": [
      "/Users/yingjiang/miniconda2/lib/python2.7/site-packages/ipykernel/__main__.py:2: SettingWithCopyWarning: \n",
      "A value is trying to be set on a copy of a slice from a DataFrame\n",
      "\n",
      "See the caveats in the documentation: http://pandas.pydata.org/pandas-docs/stable/indexing.html#indexing-view-versus-copy\n",
      "  from ipykernel import kernelapp as app\n"
     ]
    }
   ],
   "source": [
    "granted = loanData[loanData.loan_granted == 1]\n",
    "granted.drop('loan_granted', axis=1, inplace=True)\n",
    "print granted.shape"
   ]
  },
  {
   "cell_type": "code",
   "execution_count": 10,
   "metadata": {
    "collapsed": false
   },
   "outputs": [
    {
     "data": {
      "text/html": [
       "<div>\n",
       "<table border=\"1\" class=\"dataframe\">\n",
       "  <thead>\n",
       "    <tr style=\"text-align: right;\">\n",
       "      <th></th>\n",
       "      <th>loan_id</th>\n",
       "      <th>is_first_loan</th>\n",
       "      <th>fully_repaid_previous_loans</th>\n",
       "      <th>currently_repaying_other_loans</th>\n",
       "      <th>total_credit_card_limit</th>\n",
       "      <th>avg_percentage_credit_card_limit_used_last_year</th>\n",
       "      <th>saving_amount</th>\n",
       "      <th>checking_amount</th>\n",
       "      <th>is_employed</th>\n",
       "      <th>yearly_salary</th>\n",
       "      <th>age</th>\n",
       "      <th>dependent_number</th>\n",
       "      <th>loan_repaid</th>\n",
       "    </tr>\n",
       "  </thead>\n",
       "  <tbody>\n",
       "    <tr>\n",
       "      <th>count</th>\n",
       "      <td>47654.000000</td>\n",
       "      <td>47654.000000</td>\n",
       "      <td>21865.000000</td>\n",
       "      <td>21865.000000</td>\n",
       "      <td>47654.000000</td>\n",
       "      <td>46751.000000</td>\n",
       "      <td>47654.000000</td>\n",
       "      <td>47654.000000</td>\n",
       "      <td>47654.000000</td>\n",
       "      <td>47654.000000</td>\n",
       "      <td>47654.000000</td>\n",
       "      <td>47654.000000</td>\n",
       "      <td>47654.000000</td>\n",
       "    </tr>\n",
       "    <tr>\n",
       "      <th>mean</th>\n",
       "      <td>500187.775402</td>\n",
       "      <td>0.541172</td>\n",
       "      <td>0.902493</td>\n",
       "      <td>0.297736</td>\n",
       "      <td>4527.848659</td>\n",
       "      <td>0.700091</td>\n",
       "      <td>2022.366580</td>\n",
       "      <td>3499.160595</td>\n",
       "      <td>0.909829</td>\n",
       "      <td>29245.991942</td>\n",
       "      <td>41.524657</td>\n",
       "      <td>3.752445</td>\n",
       "      <td>0.644353</td>\n",
       "    </tr>\n",
       "    <tr>\n",
       "      <th>std</th>\n",
       "      <td>288925.682009</td>\n",
       "      <td>0.498307</td>\n",
       "      <td>0.296654</td>\n",
       "      <td>0.457273</td>\n",
       "      <td>1975.127016</td>\n",
       "      <td>0.177729</td>\n",
       "      <td>1493.410303</td>\n",
       "      <td>2155.128304</td>\n",
       "      <td>0.286429</td>\n",
       "      <td>16286.512395</td>\n",
       "      <td>12.817587</td>\n",
       "      <td>2.621351</td>\n",
       "      <td>0.478714</td>\n",
       "    </tr>\n",
       "    <tr>\n",
       "      <th>min</th>\n",
       "      <td>37.000000</td>\n",
       "      <td>0.000000</td>\n",
       "      <td>0.000000</td>\n",
       "      <td>0.000000</td>\n",
       "      <td>0.000000</td>\n",
       "      <td>0.000000</td>\n",
       "      <td>0.000000</td>\n",
       "      <td>0.000000</td>\n",
       "      <td>0.000000</td>\n",
       "      <td>0.000000</td>\n",
       "      <td>18.000000</td>\n",
       "      <td>0.000000</td>\n",
       "      <td>0.000000</td>\n",
       "    </tr>\n",
       "    <tr>\n",
       "      <th>25%</th>\n",
       "      <td>248669.250000</td>\n",
       "      <td>0.000000</td>\n",
       "      <td>1.000000</td>\n",
       "      <td>0.000000</td>\n",
       "      <td>3100.000000</td>\n",
       "      <td>0.580000</td>\n",
       "      <td>914.000000</td>\n",
       "      <td>1873.000000</td>\n",
       "      <td>1.000000</td>\n",
       "      <td>18900.000000</td>\n",
       "      <td>32.000000</td>\n",
       "      <td>2.000000</td>\n",
       "      <td>0.000000</td>\n",
       "    </tr>\n",
       "    <tr>\n",
       "      <th>50%</th>\n",
       "      <td>500013.500000</td>\n",
       "      <td>1.000000</td>\n",
       "      <td>1.000000</td>\n",
       "      <td>0.000000</td>\n",
       "      <td>4400.000000</td>\n",
       "      <td>0.710000</td>\n",
       "      <td>1553.000000</td>\n",
       "      <td>3024.500000</td>\n",
       "      <td>1.000000</td>\n",
       "      <td>29400.000000</td>\n",
       "      <td>41.000000</td>\n",
       "      <td>3.000000</td>\n",
       "      <td>1.000000</td>\n",
       "    </tr>\n",
       "    <tr>\n",
       "      <th>75%</th>\n",
       "      <td>750413.250000</td>\n",
       "      <td>1.000000</td>\n",
       "      <td>1.000000</td>\n",
       "      <td>1.000000</td>\n",
       "      <td>5800.000000</td>\n",
       "      <td>0.830000</td>\n",
       "      <td>2878.000000</td>\n",
       "      <td>4842.000000</td>\n",
       "      <td>1.000000</td>\n",
       "      <td>40200.000000</td>\n",
       "      <td>50.000000</td>\n",
       "      <td>6.000000</td>\n",
       "      <td>1.000000</td>\n",
       "    </tr>\n",
       "    <tr>\n",
       "      <th>max</th>\n",
       "      <td>999968.000000</td>\n",
       "      <td>1.000000</td>\n",
       "      <td>1.000000</td>\n",
       "      <td>1.000000</td>\n",
       "      <td>13500.000000</td>\n",
       "      <td>1.090000</td>\n",
       "      <td>10641.000000</td>\n",
       "      <td>13165.000000</td>\n",
       "      <td>1.000000</td>\n",
       "      <td>97200.000000</td>\n",
       "      <td>79.000000</td>\n",
       "      <td>8.000000</td>\n",
       "      <td>1.000000</td>\n",
       "    </tr>\n",
       "  </tbody>\n",
       "</table>\n",
       "</div>"
      ],
      "text/plain": [
       "             loan_id  is_first_loan  fully_repaid_previous_loans  \\\n",
       "count   47654.000000   47654.000000                 21865.000000   \n",
       "mean   500187.775402       0.541172                     0.902493   \n",
       "std    288925.682009       0.498307                     0.296654   \n",
       "min        37.000000       0.000000                     0.000000   \n",
       "25%    248669.250000       0.000000                     1.000000   \n",
       "50%    500013.500000       1.000000                     1.000000   \n",
       "75%    750413.250000       1.000000                     1.000000   \n",
       "max    999968.000000       1.000000                     1.000000   \n",
       "\n",
       "       currently_repaying_other_loans  total_credit_card_limit  \\\n",
       "count                    21865.000000             47654.000000   \n",
       "mean                         0.297736              4527.848659   \n",
       "std                          0.457273              1975.127016   \n",
       "min                          0.000000                 0.000000   \n",
       "25%                          0.000000              3100.000000   \n",
       "50%                          0.000000              4400.000000   \n",
       "75%                          1.000000              5800.000000   \n",
       "max                          1.000000             13500.000000   \n",
       "\n",
       "       avg_percentage_credit_card_limit_used_last_year  saving_amount  \\\n",
       "count                                     46751.000000   47654.000000   \n",
       "mean                                          0.700091    2022.366580   \n",
       "std                                           0.177729    1493.410303   \n",
       "min                                           0.000000       0.000000   \n",
       "25%                                           0.580000     914.000000   \n",
       "50%                                           0.710000    1553.000000   \n",
       "75%                                           0.830000    2878.000000   \n",
       "max                                           1.090000   10641.000000   \n",
       "\n",
       "       checking_amount   is_employed  yearly_salary           age  \\\n",
       "count     47654.000000  47654.000000   47654.000000  47654.000000   \n",
       "mean       3499.160595      0.909829   29245.991942     41.524657   \n",
       "std        2155.128304      0.286429   16286.512395     12.817587   \n",
       "min           0.000000      0.000000       0.000000     18.000000   \n",
       "25%        1873.000000      1.000000   18900.000000     32.000000   \n",
       "50%        3024.500000      1.000000   29400.000000     41.000000   \n",
       "75%        4842.000000      1.000000   40200.000000     50.000000   \n",
       "max       13165.000000      1.000000   97200.000000     79.000000   \n",
       "\n",
       "       dependent_number   loan_repaid  \n",
       "count      47654.000000  47654.000000  \n",
       "mean           3.752445      0.644353  \n",
       "std            2.621351      0.478714  \n",
       "min            0.000000      0.000000  \n",
       "25%            2.000000      0.000000  \n",
       "50%            3.000000      1.000000  \n",
       "75%            6.000000      1.000000  \n",
       "max            8.000000      1.000000  "
      ]
     },
     "execution_count": 10,
     "metadata": {},
     "output_type": "execute_result"
    }
   ],
   "source": [
    "granted.describe()"
   ]
  },
  {
   "cell_type": "markdown",
   "metadata": {},
   "source": [
    "## 2. Drop 'date' column\n",
    "\n",
    "We can drop the date feature first to see if a good enough model can be built. If date features can offer further insight, e.g. default is more likely when the grant is applied in certain months, the column can be considered in future."
   ]
  },
  {
   "cell_type": "code",
   "execution_count": 11,
   "metadata": {
    "collapsed": false
   },
   "outputs": [
    {
     "name": "stderr",
     "output_type": "stream",
     "text": [
      "/Users/yingjiang/miniconda2/lib/python2.7/site-packages/ipykernel/__main__.py:1: SettingWithCopyWarning: \n",
      "A value is trying to be set on a copy of a slice from a DataFrame\n",
      "\n",
      "See the caveats in the documentation: http://pandas.pydata.org/pandas-docs/stable/indexing.html#indexing-view-versus-copy\n",
      "  if __name__ == '__main__':\n"
     ]
    }
   ],
   "source": [
    "granted.drop('date', axis=1, inplace=True)"
   ]
  },
  {
   "cell_type": "markdown",
   "metadata": {},
   "source": [
    "## 3. Convert categorical variable into numeric"
   ]
  },
  {
   "cell_type": "code",
   "execution_count": 12,
   "metadata": {
    "collapsed": false
   },
   "outputs": [
    {
     "data": {
      "text/plain": [
       "loan_id                                              int64\n",
       "is_first_loan                                        int64\n",
       "fully_repaid_previous_loans                        float64\n",
       "currently_repaying_other_loans                     float64\n",
       "total_credit_card_limit                              int64\n",
       "avg_percentage_credit_card_limit_used_last_year    float64\n",
       "saving_amount                                        int64\n",
       "checking_amount                                      int64\n",
       "is_employed                                          int64\n",
       "yearly_salary                                        int64\n",
       "age                                                  int64\n",
       "dependent_number                                     int64\n",
       "loan_purpose                                        object\n",
       "loan_repaid                                        float64\n",
       "dtype: object"
      ]
     },
     "execution_count": 12,
     "metadata": {},
     "output_type": "execute_result"
    }
   ],
   "source": [
    "granted.dtypes"
   ]
  },
  {
   "cell_type": "code",
   "execution_count": 13,
   "metadata": {
    "collapsed": false
   },
   "outputs": [
    {
     "data": {
      "text/plain": [
       "Index([u'loan_purpose'], dtype='object')"
      ]
     },
     "execution_count": 13,
     "metadata": {},
     "output_type": "execute_result"
    }
   ],
   "source": [
    "granted.select_dtypes(include=['O']).columns"
   ]
  },
  {
   "cell_type": "code",
   "execution_count": 14,
   "metadata": {
    "collapsed": false
   },
   "outputs": [
    {
     "data": {
      "text/plain": [
       "array(['other', 'business', 'emergency_funds', 'investment', 'home'], dtype=object)"
      ]
     },
     "execution_count": 14,
     "metadata": {},
     "output_type": "execute_result"
    }
   ],
   "source": [
    "granted.loan_purpose.unique()"
   ]
  },
  {
   "cell_type": "markdown",
   "metadata": {},
   "source": [
    "There are five types of loan purposes. If one uses LabelEncoder, which generates ordinal labels -"
   ]
  },
  {
   "cell_type": "code",
   "execution_count": 15,
   "metadata": {
    "collapsed": false
   },
   "outputs": [
    {
     "name": "stdout",
     "output_type": "stream",
     "text": [
      "[4 4 0 1 0 0 0 1 0 3 2 0 2 0 1 0 3 0 1 2]\n",
      "2               other\n",
      "5               other\n",
      "7            business\n",
      "8     emergency_funds\n",
      "9            business\n",
      "10           business\n",
      "11           business\n",
      "13    emergency_funds\n",
      "16           business\n",
      "17         investment\n",
      "21               home\n",
      "22           business\n",
      "23               home\n",
      "31           business\n",
      "35    emergency_funds\n",
      "39           business\n",
      "40         investment\n",
      "42           business\n",
      "45    emergency_funds\n",
      "47               home\n",
      "Name: loan_purpose, dtype: object\n"
     ]
    }
   ],
   "source": [
    "purpose_encoder = LabelEncoder()\n",
    "purpose_encoder.fit(granted.loan_purpose)\n",
    "print purpose_encoder.transform(granted.loan_purpose)[:20]\n",
    "print granted.loan_purpose[:20]"
   ]
  },
  {
   "cell_type": "markdown",
   "metadata": {},
   "source": [
    "Since loan purposes don't have an ordinal relationship, one-hot encoding is more desirable. It retains more info by creating only four more columns."
   ]
  },
  {
   "cell_type": "code",
   "execution_count": 16,
   "metadata": {
    "collapsed": false,
    "scrolled": true
   },
   "outputs": [
    {
     "name": "stderr",
     "output_type": "stream",
     "text": [
      "/Users/yingjiang/miniconda2/lib/python2.7/site-packages/ipykernel/__main__.py:2: SettingWithCopyWarning: \n",
      "A value is trying to be set on a copy of a slice from a DataFrame.\n",
      "Try using .loc[row_indexer,col_indexer] = value instead\n",
      "\n",
      "See the caveats in the documentation: http://pandas.pydata.org/pandas-docs/stable/indexing.html#indexing-view-versus-copy\n",
      "  from ipykernel import kernelapp as app\n",
      "/Users/yingjiang/miniconda2/lib/python2.7/site-packages/ipykernel/__main__.py:3: SettingWithCopyWarning: \n",
      "A value is trying to be set on a copy of a slice from a DataFrame\n",
      "\n",
      "See the caveats in the documentation: http://pandas.pydata.org/pandas-docs/stable/indexing.html#indexing-view-versus-copy\n",
      "  app.launch_new_instance()\n"
     ]
    }
   ],
   "source": [
    "for purpose in granted.loan_purpose.unique():\n",
    "    granted['purpose_'+purpose] = granted.loan_purpose.str.contains(purpose).astype(int)\n",
    "granted.drop('loan_purpose',axis=1, inplace=True)"
   ]
  },
  {
   "cell_type": "code",
   "execution_count": 17,
   "metadata": {
    "collapsed": false
   },
   "outputs": [
    {
     "data": {
      "text/html": [
       "<div>\n",
       "<table border=\"1\" class=\"dataframe\">\n",
       "  <thead>\n",
       "    <tr style=\"text-align: right;\">\n",
       "      <th></th>\n",
       "      <th>loan_id</th>\n",
       "      <th>is_first_loan</th>\n",
       "      <th>fully_repaid_previous_loans</th>\n",
       "      <th>currently_repaying_other_loans</th>\n",
       "      <th>total_credit_card_limit</th>\n",
       "      <th>avg_percentage_credit_card_limit_used_last_year</th>\n",
       "      <th>saving_amount</th>\n",
       "      <th>checking_amount</th>\n",
       "      <th>is_employed</th>\n",
       "      <th>yearly_salary</th>\n",
       "      <th>age</th>\n",
       "      <th>dependent_number</th>\n",
       "      <th>loan_repaid</th>\n",
       "      <th>purpose_other</th>\n",
       "      <th>purpose_business</th>\n",
       "      <th>purpose_emergency_funds</th>\n",
       "      <th>purpose_investment</th>\n",
       "      <th>purpose_home</th>\n",
       "    </tr>\n",
       "  </thead>\n",
       "  <tbody>\n",
       "    <tr>\n",
       "      <th>2</th>\n",
       "      <td>135565</td>\n",
       "      <td>1</td>\n",
       "      <td>NaN</td>\n",
       "      <td>NaN</td>\n",
       "      <td>6900</td>\n",
       "      <td>0.82</td>\n",
       "      <td>2085</td>\n",
       "      <td>3422</td>\n",
       "      <td>1</td>\n",
       "      <td>24500</td>\n",
       "      <td>38</td>\n",
       "      <td>8</td>\n",
       "      <td>1.0</td>\n",
       "      <td>1</td>\n",
       "      <td>0</td>\n",
       "      <td>0</td>\n",
       "      <td>0</td>\n",
       "      <td>0</td>\n",
       "    </tr>\n",
       "    <tr>\n",
       "      <th>5</th>\n",
       "      <td>423171</td>\n",
       "      <td>1</td>\n",
       "      <td>NaN</td>\n",
       "      <td>NaN</td>\n",
       "      <td>6100</td>\n",
       "      <td>0.53</td>\n",
       "      <td>6163</td>\n",
       "      <td>5298</td>\n",
       "      <td>1</td>\n",
       "      <td>29500</td>\n",
       "      <td>24</td>\n",
       "      <td>1</td>\n",
       "      <td>1.0</td>\n",
       "      <td>1</td>\n",
       "      <td>0</td>\n",
       "      <td>0</td>\n",
       "      <td>0</td>\n",
       "      <td>0</td>\n",
       "    </tr>\n",
       "    <tr>\n",
       "      <th>7</th>\n",
       "      <td>200139</td>\n",
       "      <td>1</td>\n",
       "      <td>NaN</td>\n",
       "      <td>NaN</td>\n",
       "      <td>4000</td>\n",
       "      <td>0.57</td>\n",
       "      <td>602</td>\n",
       "      <td>2757</td>\n",
       "      <td>1</td>\n",
       "      <td>31700</td>\n",
       "      <td>36</td>\n",
       "      <td>8</td>\n",
       "      <td>0.0</td>\n",
       "      <td>0</td>\n",
       "      <td>1</td>\n",
       "      <td>0</td>\n",
       "      <td>0</td>\n",
       "      <td>0</td>\n",
       "    </tr>\n",
       "    <tr>\n",
       "      <th>8</th>\n",
       "      <td>991294</td>\n",
       "      <td>0</td>\n",
       "      <td>1.0</td>\n",
       "      <td>0.0</td>\n",
       "      <td>7000</td>\n",
       "      <td>0.52</td>\n",
       "      <td>2575</td>\n",
       "      <td>2917</td>\n",
       "      <td>1</td>\n",
       "      <td>58900</td>\n",
       "      <td>33</td>\n",
       "      <td>3</td>\n",
       "      <td>1.0</td>\n",
       "      <td>0</td>\n",
       "      <td>0</td>\n",
       "      <td>1</td>\n",
       "      <td>0</td>\n",
       "      <td>0</td>\n",
       "    </tr>\n",
       "    <tr>\n",
       "      <th>9</th>\n",
       "      <td>875332</td>\n",
       "      <td>0</td>\n",
       "      <td>1.0</td>\n",
       "      <td>0.0</td>\n",
       "      <td>4300</td>\n",
       "      <td>0.83</td>\n",
       "      <td>722</td>\n",
       "      <td>892</td>\n",
       "      <td>1</td>\n",
       "      <td>5400</td>\n",
       "      <td>32</td>\n",
       "      <td>7</td>\n",
       "      <td>1.0</td>\n",
       "      <td>0</td>\n",
       "      <td>1</td>\n",
       "      <td>0</td>\n",
       "      <td>0</td>\n",
       "      <td>0</td>\n",
       "    </tr>\n",
       "  </tbody>\n",
       "</table>\n",
       "</div>"
      ],
      "text/plain": [
       "   loan_id  is_first_loan  fully_repaid_previous_loans  \\\n",
       "2   135565              1                          NaN   \n",
       "5   423171              1                          NaN   \n",
       "7   200139              1                          NaN   \n",
       "8   991294              0                          1.0   \n",
       "9   875332              0                          1.0   \n",
       "\n",
       "   currently_repaying_other_loans  total_credit_card_limit  \\\n",
       "2                             NaN                     6900   \n",
       "5                             NaN                     6100   \n",
       "7                             NaN                     4000   \n",
       "8                             0.0                     7000   \n",
       "9                             0.0                     4300   \n",
       "\n",
       "   avg_percentage_credit_card_limit_used_last_year  saving_amount  \\\n",
       "2                                             0.82           2085   \n",
       "5                                             0.53           6163   \n",
       "7                                             0.57            602   \n",
       "8                                             0.52           2575   \n",
       "9                                             0.83            722   \n",
       "\n",
       "   checking_amount  is_employed  yearly_salary  age  dependent_number  \\\n",
       "2             3422            1          24500   38                 8   \n",
       "5             5298            1          29500   24                 1   \n",
       "7             2757            1          31700   36                 8   \n",
       "8             2917            1          58900   33                 3   \n",
       "9              892            1           5400   32                 7   \n",
       "\n",
       "   loan_repaid  purpose_other  purpose_business  purpose_emergency_funds  \\\n",
       "2          1.0              1                 0                        0   \n",
       "5          1.0              1                 0                        0   \n",
       "7          0.0              0                 1                        0   \n",
       "8          1.0              0                 0                        1   \n",
       "9          1.0              0                 1                        0   \n",
       "\n",
       "   purpose_investment  purpose_home  \n",
       "2                   0             0  \n",
       "5                   0             0  \n",
       "7                   0             0  \n",
       "8                   0             0  \n",
       "9                   0             0  "
      ]
     },
     "execution_count": 17,
     "metadata": {},
     "output_type": "execute_result"
    }
   ],
   "source": [
    "granted.head()"
   ]
  },
  {
   "cell_type": "markdown",
   "metadata": {},
   "source": [
    "## 4. Deal with missing values\n",
    "\n",
    "Three columns have a large number of missing values. The strategy is to build models without these columns, or after imputing the missing values by k-nearest neighbor regression. Then compare the model performance."
   ]
  },
  {
   "cell_type": "code",
   "execution_count": 18,
   "metadata": {
    "collapsed": false
   },
   "outputs": [
    {
     "data": {
      "text/plain": [
       "loan_id                                                0\n",
       "is_first_loan                                          0\n",
       "fully_repaid_previous_loans                        54947\n",
       "currently_repaying_other_loans                     54947\n",
       "total_credit_card_limit                                0\n",
       "avg_percentage_credit_card_limit_used_last_year     6972\n",
       "saving_amount                                          0\n",
       "checking_amount                                        0\n",
       "is_employed                                            0\n",
       "yearly_salary                                          0\n",
       "age                                                    0\n",
       "dependent_number                                       0\n",
       "loan_purpose                                           0\n",
       "date                                                   0\n",
       "loan_granted                                           0\n",
       "loan_repaid                                        53446\n",
       "dtype: int64"
      ]
     },
     "execution_count": 18,
     "metadata": {},
     "output_type": "execute_result"
    }
   ],
   "source": [
    "loanData.isnull().sum()"
   ]
  },
  {
   "cell_type": "code",
   "execution_count": 19,
   "metadata": {
    "collapsed": false
   },
   "outputs": [
    {
     "data": {
      "text/plain": [
       "loan_id                                                0\n",
       "is_first_loan                                          0\n",
       "fully_repaid_previous_loans                        25789\n",
       "currently_repaying_other_loans                     25789\n",
       "total_credit_card_limit                                0\n",
       "avg_percentage_credit_card_limit_used_last_year      903\n",
       "saving_amount                                          0\n",
       "checking_amount                                        0\n",
       "is_employed                                            0\n",
       "yearly_salary                                          0\n",
       "age                                                    0\n",
       "dependent_number                                       0\n",
       "loan_repaid                                            0\n",
       "purpose_other                                          0\n",
       "purpose_business                                       0\n",
       "purpose_emergency_funds                                0\n",
       "purpose_investment                                     0\n",
       "purpose_home                                           0\n",
       "dtype: int64"
      ]
     },
     "execution_count": 19,
     "metadata": {},
     "output_type": "execute_result"
    }
   ],
   "source": [
    "granted.isnull().sum()"
   ]
  },
  {
   "cell_type": "code",
   "execution_count": 20,
   "metadata": {
    "collapsed": false
   },
   "outputs": [
    {
     "name": "stdout",
     "output_type": "stream",
     "text": [
      "Percentage of loans granted: 0.471355093966\n",
      "Percentage of individuals with payment history missing granted loans: 0.469343185251\n",
      "Percentage of individuals with credit-limit-use missing granted loans: 0.129518072289\n"
     ]
    }
   ],
   "source": [
    "print 'Percentage of loans granted:', granted.shape[0]/float(loanData.shape[0])\n",
    "print 'Percentage of individuals with payment history missing granted loans:', granted.isnull().sum()[2]/float(loanData.isnull().sum()[2])\n",
    "print 'Percentage of individuals with credit-limit-use missing granted loans:', granted.isnull().sum()[5]/float(loanData.isnull().sum()[5])"
   ]
  },
  {
   "cell_type": "markdown",
   "metadata": {},
   "source": [
    "It seems that the bank doesn't discriminate against people who've missing payment history when granting loans. But they do grant loans more to people whose credit limit use information is declared / known."
   ]
  },
  {
   "cell_type": "code",
   "execution_count": 21,
   "metadata": {
    "collapsed": false
   },
   "outputs": [
    {
     "name": "stdout",
     "output_type": "stream",
     "text": [
      "Repaid loan? 0.0\n",
      "Number of cases: (16948, 18)\n",
      "% of individuals with previous payment history missing: 0.532570214775\n",
      "% of individuals with current payment history missing: 0.532570214775\n",
      "% of individuals with credit-limit-use missing: 0.0440759971678\n",
      "Repaid loan? 1.0\n",
      "Number of cases: (30706, 18)\n",
      "% of individuals with previous payment history missing: 0.545919364294\n",
      "% of individuals with current payment history missing: 0.545919364294\n",
      "% of individuals with credit-limit-use missing: 0.00508044030483\n"
     ]
    }
   ],
   "source": [
    "for key, group in granted.groupby('loan_repaid'):\n",
    "    print 'Repaid loan?', key\n",
    "    print 'Number of cases:', group.shape\n",
    "    print '% of individuals with previous payment history missing:', group.fully_repaid_previous_loans.isnull().sum()/float(group.shape[0])\n",
    "    print '% of individuals with current payment history missing:', group.currently_repaying_other_loans.isnull().sum()/float(group.shape[0])\n",
    "    print '% of individuals with credit-limit-use missing:', group.avg_percentage_credit_card_limit_used_last_year.isnull().sum()/float(group.shape[0])"
   ]
  },
  {
   "cell_type": "code",
   "execution_count": 22,
   "metadata": {
    "collapsed": false,
    "scrolled": true
   },
   "outputs": [
    {
     "data": {
      "text/html": [
       "<div>\n",
       "<table border=\"1\" class=\"dataframe\">\n",
       "  <thead>\n",
       "    <tr style=\"text-align: right;\">\n",
       "      <th></th>\n",
       "      <th>loan_id</th>\n",
       "      <th>is_first_loan</th>\n",
       "      <th>fully_repaid_previous_loans</th>\n",
       "      <th>currently_repaying_other_loans</th>\n",
       "      <th>total_credit_card_limit</th>\n",
       "      <th>avg_percentage_credit_card_limit_used_last_year</th>\n",
       "      <th>saving_amount</th>\n",
       "      <th>checking_amount</th>\n",
       "      <th>is_employed</th>\n",
       "      <th>yearly_salary</th>\n",
       "      <th>age</th>\n",
       "      <th>dependent_number</th>\n",
       "      <th>loan_repaid</th>\n",
       "      <th>purpose_other</th>\n",
       "      <th>purpose_business</th>\n",
       "      <th>purpose_emergency_funds</th>\n",
       "      <th>purpose_investment</th>\n",
       "      <th>purpose_home</th>\n",
       "    </tr>\n",
       "  </thead>\n",
       "  <tbody>\n",
       "    <tr>\n",
       "      <th>loan_id</th>\n",
       "      <td>1.000000</td>\n",
       "      <td>0.002246</td>\n",
       "      <td>0.001710</td>\n",
       "      <td>0.005651</td>\n",
       "      <td>-0.000655</td>\n",
       "      <td>0.001768</td>\n",
       "      <td>-0.004482</td>\n",
       "      <td>-0.000531</td>\n",
       "      <td>0.012130</td>\n",
       "      <td>0.006602</td>\n",
       "      <td>0.011177</td>\n",
       "      <td>-0.000816</td>\n",
       "      <td>-0.002704</td>\n",
       "      <td>-0.003571</td>\n",
       "      <td>0.006619</td>\n",
       "      <td>-0.006748</td>\n",
       "      <td>0.003740</td>\n",
       "      <td>-0.001342</td>\n",
       "    </tr>\n",
       "    <tr>\n",
       "      <th>is_first_loan</th>\n",
       "      <td>0.002246</td>\n",
       "      <td>1.000000</td>\n",
       "      <td>NaN</td>\n",
       "      <td>NaN</td>\n",
       "      <td>0.003657</td>\n",
       "      <td>-0.004016</td>\n",
       "      <td>0.009611</td>\n",
       "      <td>0.010356</td>\n",
       "      <td>-0.000380</td>\n",
       "      <td>-0.002121</td>\n",
       "      <td>0.002591</td>\n",
       "      <td>-0.005861</td>\n",
       "      <td>0.012824</td>\n",
       "      <td>-0.001679</td>\n",
       "      <td>0.006942</td>\n",
       "      <td>-0.013316</td>\n",
       "      <td>0.002527</td>\n",
       "      <td>0.003613</td>\n",
       "    </tr>\n",
       "    <tr>\n",
       "      <th>fully_repaid_previous_loans</th>\n",
       "      <td>0.001710</td>\n",
       "      <td>NaN</td>\n",
       "      <td>1.000000</td>\n",
       "      <td>-0.015923</td>\n",
       "      <td>0.031333</td>\n",
       "      <td>-0.001759</td>\n",
       "      <td>0.014028</td>\n",
       "      <td>0.020963</td>\n",
       "      <td>0.002697</td>\n",
       "      <td>0.008098</td>\n",
       "      <td>0.009527</td>\n",
       "      <td>0.001105</td>\n",
       "      <td>0.038665</td>\n",
       "      <td>-0.014614</td>\n",
       "      <td>-0.006204</td>\n",
       "      <td>-0.002374</td>\n",
       "      <td>0.021886</td>\n",
       "      <td>-0.001077</td>\n",
       "    </tr>\n",
       "    <tr>\n",
       "      <th>currently_repaying_other_loans</th>\n",
       "      <td>0.005651</td>\n",
       "      <td>NaN</td>\n",
       "      <td>-0.015923</td>\n",
       "      <td>1.000000</td>\n",
       "      <td>-0.198214</td>\n",
       "      <td>0.094812</td>\n",
       "      <td>-0.251634</td>\n",
       "      <td>-0.248012</td>\n",
       "      <td>-0.154352</td>\n",
       "      <td>-0.215739</td>\n",
       "      <td>-0.008255</td>\n",
       "      <td>0.075054</td>\n",
       "      <td>-0.496350</td>\n",
       "      <td>0.023734</td>\n",
       "      <td>-0.043297</td>\n",
       "      <td>0.074131</td>\n",
       "      <td>-0.039280</td>\n",
       "      <td>-0.004114</td>\n",
       "    </tr>\n",
       "    <tr>\n",
       "      <th>total_credit_card_limit</th>\n",
       "      <td>-0.000655</td>\n",
       "      <td>0.003657</td>\n",
       "      <td>0.031333</td>\n",
       "      <td>-0.198214</td>\n",
       "      <td>1.000000</td>\n",
       "      <td>-0.076596</td>\n",
       "      <td>0.194137</td>\n",
       "      <td>0.203409</td>\n",
       "      <td>0.156715</td>\n",
       "      <td>0.186868</td>\n",
       "      <td>0.000168</td>\n",
       "      <td>-0.059254</td>\n",
       "      <td>0.401911</td>\n",
       "      <td>-0.029167</td>\n",
       "      <td>0.043437</td>\n",
       "      <td>-0.057069</td>\n",
       "      <td>0.032787</td>\n",
       "      <td>-0.001100</td>\n",
       "    </tr>\n",
       "    <tr>\n",
       "      <th>avg_percentage_credit_card_limit_used_last_year</th>\n",
       "      <td>0.001768</td>\n",
       "      <td>-0.004016</td>\n",
       "      <td>-0.001759</td>\n",
       "      <td>0.094812</td>\n",
       "      <td>-0.076596</td>\n",
       "      <td>1.000000</td>\n",
       "      <td>-0.098045</td>\n",
       "      <td>-0.101262</td>\n",
       "      <td>-0.089726</td>\n",
       "      <td>-0.102187</td>\n",
       "      <td>0.003110</td>\n",
       "      <td>0.026807</td>\n",
       "      <td>-0.209870</td>\n",
       "      <td>0.022634</td>\n",
       "      <td>-0.022539</td>\n",
       "      <td>0.030959</td>\n",
       "      <td>-0.007637</td>\n",
       "      <td>-0.015720</td>\n",
       "    </tr>\n",
       "    <tr>\n",
       "      <th>saving_amount</th>\n",
       "      <td>-0.004482</td>\n",
       "      <td>0.009611</td>\n",
       "      <td>0.014028</td>\n",
       "      <td>-0.251634</td>\n",
       "      <td>0.194137</td>\n",
       "      <td>-0.098045</td>\n",
       "      <td>1.000000</td>\n",
       "      <td>0.238092</td>\n",
       "      <td>0.148637</td>\n",
       "      <td>0.210556</td>\n",
       "      <td>-0.004327</td>\n",
       "      <td>-0.064931</td>\n",
       "      <td>0.493699</td>\n",
       "      <td>-0.037777</td>\n",
       "      <td>0.041576</td>\n",
       "      <td>-0.073808</td>\n",
       "      <td>0.042976</td>\n",
       "      <td>0.012296</td>\n",
       "    </tr>\n",
       "    <tr>\n",
       "      <th>checking_amount</th>\n",
       "      <td>-0.000531</td>\n",
       "      <td>0.010356</td>\n",
       "      <td>0.020963</td>\n",
       "      <td>-0.248012</td>\n",
       "      <td>0.203409</td>\n",
       "      <td>-0.101262</td>\n",
       "      <td>0.238092</td>\n",
       "      <td>1.000000</td>\n",
       "      <td>0.151237</td>\n",
       "      <td>0.210244</td>\n",
       "      <td>0.005039</td>\n",
       "      <td>-0.071816</td>\n",
       "      <td>0.494341</td>\n",
       "      <td>-0.036413</td>\n",
       "      <td>0.040610</td>\n",
       "      <td>-0.070055</td>\n",
       "      <td>0.039581</td>\n",
       "      <td>0.012180</td>\n",
       "    </tr>\n",
       "    <tr>\n",
       "      <th>is_employed</th>\n",
       "      <td>0.012130</td>\n",
       "      <td>-0.000380</td>\n",
       "      <td>0.002697</td>\n",
       "      <td>-0.154352</td>\n",
       "      <td>0.156715</td>\n",
       "      <td>-0.089726</td>\n",
       "      <td>0.148637</td>\n",
       "      <td>0.151237</td>\n",
       "      <td>1.000000</td>\n",
       "      <td>0.565322</td>\n",
       "      <td>0.005004</td>\n",
       "      <td>-0.042867</td>\n",
       "      <td>0.305749</td>\n",
       "      <td>-0.040120</td>\n",
       "      <td>0.025119</td>\n",
       "      <td>-0.040674</td>\n",
       "      <td>0.034891</td>\n",
       "      <td>0.009598</td>\n",
       "    </tr>\n",
       "    <tr>\n",
       "      <th>yearly_salary</th>\n",
       "      <td>0.006602</td>\n",
       "      <td>-0.002121</td>\n",
       "      <td>0.008098</td>\n",
       "      <td>-0.215739</td>\n",
       "      <td>0.186868</td>\n",
       "      <td>-0.102187</td>\n",
       "      <td>0.210556</td>\n",
       "      <td>0.210244</td>\n",
       "      <td>0.565322</td>\n",
       "      <td>1.000000</td>\n",
       "      <td>0.009329</td>\n",
       "      <td>-0.063628</td>\n",
       "      <td>0.426648</td>\n",
       "      <td>-0.038530</td>\n",
       "      <td>0.039910</td>\n",
       "      <td>-0.058598</td>\n",
       "      <td>0.037036</td>\n",
       "      <td>0.007215</td>\n",
       "    </tr>\n",
       "    <tr>\n",
       "      <th>age</th>\n",
       "      <td>0.011177</td>\n",
       "      <td>0.002591</td>\n",
       "      <td>0.009527</td>\n",
       "      <td>-0.008255</td>\n",
       "      <td>0.000168</td>\n",
       "      <td>0.003110</td>\n",
       "      <td>-0.004327</td>\n",
       "      <td>0.005039</td>\n",
       "      <td>0.005004</td>\n",
       "      <td>0.009329</td>\n",
       "      <td>1.000000</td>\n",
       "      <td>-0.001281</td>\n",
       "      <td>0.000947</td>\n",
       "      <td>0.005612</td>\n",
       "      <td>0.009843</td>\n",
       "      <td>-0.014166</td>\n",
       "      <td>-0.000665</td>\n",
       "      <td>-0.001370</td>\n",
       "    </tr>\n",
       "    <tr>\n",
       "      <th>dependent_number</th>\n",
       "      <td>-0.000816</td>\n",
       "      <td>-0.005861</td>\n",
       "      <td>0.001105</td>\n",
       "      <td>0.075054</td>\n",
       "      <td>-0.059254</td>\n",
       "      <td>0.026807</td>\n",
       "      <td>-0.064931</td>\n",
       "      <td>-0.071816</td>\n",
       "      <td>-0.042867</td>\n",
       "      <td>-0.063628</td>\n",
       "      <td>-0.001281</td>\n",
       "      <td>1.000000</td>\n",
       "      <td>-0.136384</td>\n",
       "      <td>0.018753</td>\n",
       "      <td>-0.003657</td>\n",
       "      <td>0.011459</td>\n",
       "      <td>-0.005931</td>\n",
       "      <td>-0.015922</td>\n",
       "    </tr>\n",
       "    <tr>\n",
       "      <th>loan_repaid</th>\n",
       "      <td>-0.002704</td>\n",
       "      <td>0.012824</td>\n",
       "      <td>0.038665</td>\n",
       "      <td>-0.496350</td>\n",
       "      <td>0.401911</td>\n",
       "      <td>-0.209870</td>\n",
       "      <td>0.493699</td>\n",
       "      <td>0.494341</td>\n",
       "      <td>0.305749</td>\n",
       "      <td>0.426648</td>\n",
       "      <td>0.000947</td>\n",
       "      <td>-0.136384</td>\n",
       "      <td>1.000000</td>\n",
       "      <td>-0.079813</td>\n",
       "      <td>0.088177</td>\n",
       "      <td>-0.142721</td>\n",
       "      <td>0.079986</td>\n",
       "      <td>0.024759</td>\n",
       "    </tr>\n",
       "    <tr>\n",
       "      <th>purpose_other</th>\n",
       "      <td>-0.003571</td>\n",
       "      <td>-0.001679</td>\n",
       "      <td>-0.014614</td>\n",
       "      <td>0.023734</td>\n",
       "      <td>-0.029167</td>\n",
       "      <td>0.022634</td>\n",
       "      <td>-0.037777</td>\n",
       "      <td>-0.036413</td>\n",
       "      <td>-0.040120</td>\n",
       "      <td>-0.038530</td>\n",
       "      <td>0.005612</td>\n",
       "      <td>0.018753</td>\n",
       "      <td>-0.079813</td>\n",
       "      <td>1.000000</td>\n",
       "      <td>-0.222593</td>\n",
       "      <td>-0.181546</td>\n",
       "      <td>-0.220322</td>\n",
       "      <td>-0.233799</td>\n",
       "    </tr>\n",
       "    <tr>\n",
       "      <th>purpose_business</th>\n",
       "      <td>0.006619</td>\n",
       "      <td>0.006942</td>\n",
       "      <td>-0.006204</td>\n",
       "      <td>-0.043297</td>\n",
       "      <td>0.043437</td>\n",
       "      <td>-0.022539</td>\n",
       "      <td>0.041576</td>\n",
       "      <td>0.040610</td>\n",
       "      <td>0.025119</td>\n",
       "      <td>0.039910</td>\n",
       "      <td>0.009843</td>\n",
       "      <td>-0.003657</td>\n",
       "      <td>0.088177</td>\n",
       "      <td>-0.222593</td>\n",
       "      <td>1.000000</td>\n",
       "      <td>-0.238237</td>\n",
       "      <td>-0.289122</td>\n",
       "      <td>-0.306807</td>\n",
       "    </tr>\n",
       "    <tr>\n",
       "      <th>purpose_emergency_funds</th>\n",
       "      <td>-0.006748</td>\n",
       "      <td>-0.013316</td>\n",
       "      <td>-0.002374</td>\n",
       "      <td>0.074131</td>\n",
       "      <td>-0.057069</td>\n",
       "      <td>0.030959</td>\n",
       "      <td>-0.073808</td>\n",
       "      <td>-0.070055</td>\n",
       "      <td>-0.040674</td>\n",
       "      <td>-0.058598</td>\n",
       "      <td>-0.014166</td>\n",
       "      <td>0.011459</td>\n",
       "      <td>-0.142721</td>\n",
       "      <td>-0.181546</td>\n",
       "      <td>-0.238237</td>\n",
       "      <td>1.000000</td>\n",
       "      <td>-0.235807</td>\n",
       "      <td>-0.250231</td>\n",
       "    </tr>\n",
       "    <tr>\n",
       "      <th>purpose_investment</th>\n",
       "      <td>0.003740</td>\n",
       "      <td>0.002527</td>\n",
       "      <td>0.021886</td>\n",
       "      <td>-0.039280</td>\n",
       "      <td>0.032787</td>\n",
       "      <td>-0.007637</td>\n",
       "      <td>0.042976</td>\n",
       "      <td>0.039581</td>\n",
       "      <td>0.034891</td>\n",
       "      <td>0.037036</td>\n",
       "      <td>-0.000665</td>\n",
       "      <td>-0.005931</td>\n",
       "      <td>0.079986</td>\n",
       "      <td>-0.220322</td>\n",
       "      <td>-0.289122</td>\n",
       "      <td>-0.235807</td>\n",
       "      <td>1.000000</td>\n",
       "      <td>-0.303678</td>\n",
       "    </tr>\n",
       "    <tr>\n",
       "      <th>purpose_home</th>\n",
       "      <td>-0.001342</td>\n",
       "      <td>0.003613</td>\n",
       "      <td>-0.001077</td>\n",
       "      <td>-0.004114</td>\n",
       "      <td>-0.001100</td>\n",
       "      <td>-0.015720</td>\n",
       "      <td>0.012296</td>\n",
       "      <td>0.012180</td>\n",
       "      <td>0.009598</td>\n",
       "      <td>0.007215</td>\n",
       "      <td>-0.001370</td>\n",
       "      <td>-0.015922</td>\n",
       "      <td>0.024759</td>\n",
       "      <td>-0.233799</td>\n",
       "      <td>-0.306807</td>\n",
       "      <td>-0.250231</td>\n",
       "      <td>-0.303678</td>\n",
       "      <td>1.000000</td>\n",
       "    </tr>\n",
       "  </tbody>\n",
       "</table>\n",
       "</div>"
      ],
      "text/plain": [
       "                                                  loan_id  is_first_loan  \\\n",
       "loan_id                                          1.000000       0.002246   \n",
       "is_first_loan                                    0.002246       1.000000   \n",
       "fully_repaid_previous_loans                      0.001710            NaN   \n",
       "currently_repaying_other_loans                   0.005651            NaN   \n",
       "total_credit_card_limit                         -0.000655       0.003657   \n",
       "avg_percentage_credit_card_limit_used_last_year  0.001768      -0.004016   \n",
       "saving_amount                                   -0.004482       0.009611   \n",
       "checking_amount                                 -0.000531       0.010356   \n",
       "is_employed                                      0.012130      -0.000380   \n",
       "yearly_salary                                    0.006602      -0.002121   \n",
       "age                                              0.011177       0.002591   \n",
       "dependent_number                                -0.000816      -0.005861   \n",
       "loan_repaid                                     -0.002704       0.012824   \n",
       "purpose_other                                   -0.003571      -0.001679   \n",
       "purpose_business                                 0.006619       0.006942   \n",
       "purpose_emergency_funds                         -0.006748      -0.013316   \n",
       "purpose_investment                               0.003740       0.002527   \n",
       "purpose_home                                    -0.001342       0.003613   \n",
       "\n",
       "                                                 fully_repaid_previous_loans  \\\n",
       "loan_id                                                             0.001710   \n",
       "is_first_loan                                                            NaN   \n",
       "fully_repaid_previous_loans                                         1.000000   \n",
       "currently_repaying_other_loans                                     -0.015923   \n",
       "total_credit_card_limit                                             0.031333   \n",
       "avg_percentage_credit_card_limit_used_last_year                    -0.001759   \n",
       "saving_amount                                                       0.014028   \n",
       "checking_amount                                                     0.020963   \n",
       "is_employed                                                         0.002697   \n",
       "yearly_salary                                                       0.008098   \n",
       "age                                                                 0.009527   \n",
       "dependent_number                                                    0.001105   \n",
       "loan_repaid                                                         0.038665   \n",
       "purpose_other                                                      -0.014614   \n",
       "purpose_business                                                   -0.006204   \n",
       "purpose_emergency_funds                                            -0.002374   \n",
       "purpose_investment                                                  0.021886   \n",
       "purpose_home                                                       -0.001077   \n",
       "\n",
       "                                                 currently_repaying_other_loans  \\\n",
       "loan_id                                                                0.005651   \n",
       "is_first_loan                                                               NaN   \n",
       "fully_repaid_previous_loans                                           -0.015923   \n",
       "currently_repaying_other_loans                                         1.000000   \n",
       "total_credit_card_limit                                               -0.198214   \n",
       "avg_percentage_credit_card_limit_used_last_year                        0.094812   \n",
       "saving_amount                                                         -0.251634   \n",
       "checking_amount                                                       -0.248012   \n",
       "is_employed                                                           -0.154352   \n",
       "yearly_salary                                                         -0.215739   \n",
       "age                                                                   -0.008255   \n",
       "dependent_number                                                       0.075054   \n",
       "loan_repaid                                                           -0.496350   \n",
       "purpose_other                                                          0.023734   \n",
       "purpose_business                                                      -0.043297   \n",
       "purpose_emergency_funds                                                0.074131   \n",
       "purpose_investment                                                    -0.039280   \n",
       "purpose_home                                                          -0.004114   \n",
       "\n",
       "                                                 total_credit_card_limit  \\\n",
       "loan_id                                                        -0.000655   \n",
       "is_first_loan                                                   0.003657   \n",
       "fully_repaid_previous_loans                                     0.031333   \n",
       "currently_repaying_other_loans                                 -0.198214   \n",
       "total_credit_card_limit                                         1.000000   \n",
       "avg_percentage_credit_card_limit_used_last_year                -0.076596   \n",
       "saving_amount                                                   0.194137   \n",
       "checking_amount                                                 0.203409   \n",
       "is_employed                                                     0.156715   \n",
       "yearly_salary                                                   0.186868   \n",
       "age                                                             0.000168   \n",
       "dependent_number                                               -0.059254   \n",
       "loan_repaid                                                     0.401911   \n",
       "purpose_other                                                  -0.029167   \n",
       "purpose_business                                                0.043437   \n",
       "purpose_emergency_funds                                        -0.057069   \n",
       "purpose_investment                                              0.032787   \n",
       "purpose_home                                                   -0.001100   \n",
       "\n",
       "                                                 avg_percentage_credit_card_limit_used_last_year  \\\n",
       "loan_id                                                                                 0.001768   \n",
       "is_first_loan                                                                          -0.004016   \n",
       "fully_repaid_previous_loans                                                            -0.001759   \n",
       "currently_repaying_other_loans                                                          0.094812   \n",
       "total_credit_card_limit                                                                -0.076596   \n",
       "avg_percentage_credit_card_limit_used_last_year                                         1.000000   \n",
       "saving_amount                                                                          -0.098045   \n",
       "checking_amount                                                                        -0.101262   \n",
       "is_employed                                                                            -0.089726   \n",
       "yearly_salary                                                                          -0.102187   \n",
       "age                                                                                     0.003110   \n",
       "dependent_number                                                                        0.026807   \n",
       "loan_repaid                                                                            -0.209870   \n",
       "purpose_other                                                                           0.022634   \n",
       "purpose_business                                                                       -0.022539   \n",
       "purpose_emergency_funds                                                                 0.030959   \n",
       "purpose_investment                                                                     -0.007637   \n",
       "purpose_home                                                                           -0.015720   \n",
       "\n",
       "                                                 saving_amount  \\\n",
       "loan_id                                              -0.004482   \n",
       "is_first_loan                                         0.009611   \n",
       "fully_repaid_previous_loans                           0.014028   \n",
       "currently_repaying_other_loans                       -0.251634   \n",
       "total_credit_card_limit                               0.194137   \n",
       "avg_percentage_credit_card_limit_used_last_year      -0.098045   \n",
       "saving_amount                                         1.000000   \n",
       "checking_amount                                       0.238092   \n",
       "is_employed                                           0.148637   \n",
       "yearly_salary                                         0.210556   \n",
       "age                                                  -0.004327   \n",
       "dependent_number                                     -0.064931   \n",
       "loan_repaid                                           0.493699   \n",
       "purpose_other                                        -0.037777   \n",
       "purpose_business                                      0.041576   \n",
       "purpose_emergency_funds                              -0.073808   \n",
       "purpose_investment                                    0.042976   \n",
       "purpose_home                                          0.012296   \n",
       "\n",
       "                                                 checking_amount  is_employed  \\\n",
       "loan_id                                                -0.000531     0.012130   \n",
       "is_first_loan                                           0.010356    -0.000380   \n",
       "fully_repaid_previous_loans                             0.020963     0.002697   \n",
       "currently_repaying_other_loans                         -0.248012    -0.154352   \n",
       "total_credit_card_limit                                 0.203409     0.156715   \n",
       "avg_percentage_credit_card_limit_used_last_year        -0.101262    -0.089726   \n",
       "saving_amount                                           0.238092     0.148637   \n",
       "checking_amount                                         1.000000     0.151237   \n",
       "is_employed                                             0.151237     1.000000   \n",
       "yearly_salary                                           0.210244     0.565322   \n",
       "age                                                     0.005039     0.005004   \n",
       "dependent_number                                       -0.071816    -0.042867   \n",
       "loan_repaid                                             0.494341     0.305749   \n",
       "purpose_other                                          -0.036413    -0.040120   \n",
       "purpose_business                                        0.040610     0.025119   \n",
       "purpose_emergency_funds                                -0.070055    -0.040674   \n",
       "purpose_investment                                      0.039581     0.034891   \n",
       "purpose_home                                            0.012180     0.009598   \n",
       "\n",
       "                                                 yearly_salary       age  \\\n",
       "loan_id                                               0.006602  0.011177   \n",
       "is_first_loan                                        -0.002121  0.002591   \n",
       "fully_repaid_previous_loans                           0.008098  0.009527   \n",
       "currently_repaying_other_loans                       -0.215739 -0.008255   \n",
       "total_credit_card_limit                               0.186868  0.000168   \n",
       "avg_percentage_credit_card_limit_used_last_year      -0.102187  0.003110   \n",
       "saving_amount                                         0.210556 -0.004327   \n",
       "checking_amount                                       0.210244  0.005039   \n",
       "is_employed                                           0.565322  0.005004   \n",
       "yearly_salary                                         1.000000  0.009329   \n",
       "age                                                   0.009329  1.000000   \n",
       "dependent_number                                     -0.063628 -0.001281   \n",
       "loan_repaid                                           0.426648  0.000947   \n",
       "purpose_other                                        -0.038530  0.005612   \n",
       "purpose_business                                      0.039910  0.009843   \n",
       "purpose_emergency_funds                              -0.058598 -0.014166   \n",
       "purpose_investment                                    0.037036 -0.000665   \n",
       "purpose_home                                          0.007215 -0.001370   \n",
       "\n",
       "                                                 dependent_number  \\\n",
       "loan_id                                                 -0.000816   \n",
       "is_first_loan                                           -0.005861   \n",
       "fully_repaid_previous_loans                              0.001105   \n",
       "currently_repaying_other_loans                           0.075054   \n",
       "total_credit_card_limit                                 -0.059254   \n",
       "avg_percentage_credit_card_limit_used_last_year          0.026807   \n",
       "saving_amount                                           -0.064931   \n",
       "checking_amount                                         -0.071816   \n",
       "is_employed                                             -0.042867   \n",
       "yearly_salary                                           -0.063628   \n",
       "age                                                     -0.001281   \n",
       "dependent_number                                         1.000000   \n",
       "loan_repaid                                             -0.136384   \n",
       "purpose_other                                            0.018753   \n",
       "purpose_business                                        -0.003657   \n",
       "purpose_emergency_funds                                  0.011459   \n",
       "purpose_investment                                      -0.005931   \n",
       "purpose_home                                            -0.015922   \n",
       "\n",
       "                                                 loan_repaid  purpose_other  \\\n",
       "loan_id                                            -0.002704      -0.003571   \n",
       "is_first_loan                                       0.012824      -0.001679   \n",
       "fully_repaid_previous_loans                         0.038665      -0.014614   \n",
       "currently_repaying_other_loans                     -0.496350       0.023734   \n",
       "total_credit_card_limit                             0.401911      -0.029167   \n",
       "avg_percentage_credit_card_limit_used_last_year    -0.209870       0.022634   \n",
       "saving_amount                                       0.493699      -0.037777   \n",
       "checking_amount                                     0.494341      -0.036413   \n",
       "is_employed                                         0.305749      -0.040120   \n",
       "yearly_salary                                       0.426648      -0.038530   \n",
       "age                                                 0.000947       0.005612   \n",
       "dependent_number                                   -0.136384       0.018753   \n",
       "loan_repaid                                         1.000000      -0.079813   \n",
       "purpose_other                                      -0.079813       1.000000   \n",
       "purpose_business                                    0.088177      -0.222593   \n",
       "purpose_emergency_funds                            -0.142721      -0.181546   \n",
       "purpose_investment                                  0.079986      -0.220322   \n",
       "purpose_home                                        0.024759      -0.233799   \n",
       "\n",
       "                                                 purpose_business  \\\n",
       "loan_id                                                  0.006619   \n",
       "is_first_loan                                            0.006942   \n",
       "fully_repaid_previous_loans                             -0.006204   \n",
       "currently_repaying_other_loans                          -0.043297   \n",
       "total_credit_card_limit                                  0.043437   \n",
       "avg_percentage_credit_card_limit_used_last_year         -0.022539   \n",
       "saving_amount                                            0.041576   \n",
       "checking_amount                                          0.040610   \n",
       "is_employed                                              0.025119   \n",
       "yearly_salary                                            0.039910   \n",
       "age                                                      0.009843   \n",
       "dependent_number                                        -0.003657   \n",
       "loan_repaid                                              0.088177   \n",
       "purpose_other                                           -0.222593   \n",
       "purpose_business                                         1.000000   \n",
       "purpose_emergency_funds                                 -0.238237   \n",
       "purpose_investment                                      -0.289122   \n",
       "purpose_home                                            -0.306807   \n",
       "\n",
       "                                                 purpose_emergency_funds  \\\n",
       "loan_id                                                        -0.006748   \n",
       "is_first_loan                                                  -0.013316   \n",
       "fully_repaid_previous_loans                                    -0.002374   \n",
       "currently_repaying_other_loans                                  0.074131   \n",
       "total_credit_card_limit                                        -0.057069   \n",
       "avg_percentage_credit_card_limit_used_last_year                 0.030959   \n",
       "saving_amount                                                  -0.073808   \n",
       "checking_amount                                                -0.070055   \n",
       "is_employed                                                    -0.040674   \n",
       "yearly_salary                                                  -0.058598   \n",
       "age                                                            -0.014166   \n",
       "dependent_number                                                0.011459   \n",
       "loan_repaid                                                    -0.142721   \n",
       "purpose_other                                                  -0.181546   \n",
       "purpose_business                                               -0.238237   \n",
       "purpose_emergency_funds                                         1.000000   \n",
       "purpose_investment                                             -0.235807   \n",
       "purpose_home                                                   -0.250231   \n",
       "\n",
       "                                                 purpose_investment  \\\n",
       "loan_id                                                    0.003740   \n",
       "is_first_loan                                              0.002527   \n",
       "fully_repaid_previous_loans                                0.021886   \n",
       "currently_repaying_other_loans                            -0.039280   \n",
       "total_credit_card_limit                                    0.032787   \n",
       "avg_percentage_credit_card_limit_used_last_year           -0.007637   \n",
       "saving_amount                                              0.042976   \n",
       "checking_amount                                            0.039581   \n",
       "is_employed                                                0.034891   \n",
       "yearly_salary                                              0.037036   \n",
       "age                                                       -0.000665   \n",
       "dependent_number                                          -0.005931   \n",
       "loan_repaid                                                0.079986   \n",
       "purpose_other                                             -0.220322   \n",
       "purpose_business                                          -0.289122   \n",
       "purpose_emergency_funds                                   -0.235807   \n",
       "purpose_investment                                         1.000000   \n",
       "purpose_home                                              -0.303678   \n",
       "\n",
       "                                                 purpose_home  \n",
       "loan_id                                             -0.001342  \n",
       "is_first_loan                                        0.003613  \n",
       "fully_repaid_previous_loans                         -0.001077  \n",
       "currently_repaying_other_loans                      -0.004114  \n",
       "total_credit_card_limit                             -0.001100  \n",
       "avg_percentage_credit_card_limit_used_last_year     -0.015720  \n",
       "saving_amount                                        0.012296  \n",
       "checking_amount                                      0.012180  \n",
       "is_employed                                          0.009598  \n",
       "yearly_salary                                        0.007215  \n",
       "age                                                 -0.001370  \n",
       "dependent_number                                    -0.015922  \n",
       "loan_repaid                                          0.024759  \n",
       "purpose_other                                       -0.233799  \n",
       "purpose_business                                    -0.306807  \n",
       "purpose_emergency_funds                             -0.250231  \n",
       "purpose_investment                                  -0.303678  \n",
       "purpose_home                                         1.000000  "
      ]
     },
     "execution_count": 22,
     "metadata": {},
     "output_type": "execute_result"
    }
   ],
   "source": [
    "granted.corr()"
   ]
  },
  {
   "cell_type": "code",
   "execution_count": 23,
   "metadata": {
    "collapsed": false
   },
   "outputs": [
    {
     "data": {
      "image/png": "[encoded data removed]",
      "text/plain": [
       "<matplotlib.figure.Figure at 0x1186c2890>"
      ]
     },
     "metadata": {},
     "output_type": "display_data"
    }
   ],
   "source": [
    "_, ax = plt.subplots(figsize = (15,12))\n",
    "cmap = sns.diverging_palette(220, 10, as_cmap=True)\n",
    "_ = sns.heatmap(granted.corr(),\n",
    "               cmap = cmap,\n",
    "               square = True,\n",
    "               cbar_kws = {'shrink': .9},\n",
    "               ax = ax,\n",
    "               annot = True,\n",
    "               annot_kws = {'fontsize': 12})"
   ]
  },
  {
   "cell_type": "markdown",
   "metadata": {},
   "source": [
    "The correlation plot illustrates several things relevant to missing values:\n",
    "\n",
    "It appears that knowing loan payment history does not play a role in an individual's ability to repay loans. However, more than 75% of the individuals actually repaid their previous loans. Therefore it's a skewed dataset and mean imputation may not be accurate. Mode imputation (mode = 1.0) is more reasonable, but still dangerous to use. Considering the huge number of NAs, making them all 1.0 will skew the distribution heavily."
   ]
  },
  {
   "cell_type": "code",
   "execution_count": 28,
   "metadata": {
    "collapsed": false
   },
   "outputs": [
    {
     "name": "stdout",
     "output_type": "stream",
     "text": [
      "[ nan   1.   0.]\n",
      "47654\n",
      "19733\n"
     ]
    }
   ],
   "source": [
    "print granted.fully_repaid_previous_loans.unique()\n",
    "print len(granted.fully_repaid_previous_loans)\n",
    "print sum(granted.fully_repaid_previous_loans == 1)"
   ]
  },
  {
   "cell_type": "markdown",
   "metadata": {},
   "source": [
    "The other two NA cols, disclosure of loan payment current status and credit limit, are more (positively) correlated with loan repayment. Altering the NA values may have a high influence on data. Considering these factors, we decide to fill in the missing values for three cols through regression.\n",
    "\n",
    "\n",
    "### A. Ignore missing values"
   ]
  },
  {
   "cell_type": "code",
   "execution_count": 29,
   "metadata": {
    "collapsed": false
   },
   "outputs": [
    {
     "name": "stdout",
     "output_type": "stream",
     "text": [
      "(47654, 15)\n",
      "loan_id                    0\n",
      "is_first_loan              0\n",
      "total_credit_card_limit    0\n",
      "saving_amount              0\n",
      "checking_amount            0\n",
      "is_employed                0\n",
      "yearly_salary              0\n",
      "age                        0\n",
      "dependent_number           0\n",
      "loan_repaid                0\n",
      "purpose_other              0\n",
      "purpose_business           0\n",
      "purpose_emergency_funds    0\n",
      "purpose_investment         0\n",
      "purpose_home               0\n",
      "dtype: int64\n"
     ]
    }
   ],
   "source": [
    "granted_noNA = granted.dropna(axis=1)\n",
    "\n",
    "# or:\n",
    "# granted_noNA = granted.drop(['fully_repaid_previous_loans',\n",
    "#                              'currently_repaying_other_loans',\n",
    "#                              'avg_percentage_credit_card_limit_used_last_year'], axis = 1)\n",
    "\n",
    "print granted_noNA.shape\n",
    "print granted_noNA.isnull().sum()"
   ]
  },
  {
   "cell_type": "code",
   "execution_count": 31,
   "metadata": {
    "collapsed": false
   },
   "outputs": [
    {
     "data": {
      "text/plain": [
       "loan_id                      int64\n",
       "is_first_loan                int64\n",
       "total_credit_card_limit      int64\n",
       "saving_amount                int64\n",
       "checking_amount              int64\n",
       "is_employed                  int64\n",
       "yearly_salary                int64\n",
       "age                          int64\n",
       "dependent_number             int64\n",
       "loan_repaid                float64\n",
       "purpose_other                int64\n",
       "purpose_business             int64\n",
       "purpose_emergency_funds      int64\n",
       "purpose_investment           int64\n",
       "purpose_home                 int64\n",
       "dtype: object"
      ]
     },
     "execution_count": 31,
     "metadata": {},
     "output_type": "execute_result"
    }
   ],
   "source": [
    "granted_noNA.dtypes"
   ]
  },
  {
   "cell_type": "markdown",
   "metadata": {},
   "source": [
    "### B. Impute missing values\n",
    "\n",
    "\"Predict\" missing values with k-nearest-neighbor regression or classification. Before doing this, it's crucial to scale the data because an uneven data space will mess up the KNN algorithm.\n",
    "\n",
    "The following columns are on a different order of magnitude than the rest:\n",
    "\n",
    "'total_credit_card_limit', 'saving_amount', 'checking_amount', 'yearly_salary', 'age', 'dependent_number'\n",
    "\n",
    "These are all positive values with an actual siginificance in their positivity. Therefore a standard scaler ((x-mean)/std) is less appropriate than a min-max scaler ((x-min)/(max-min))."
   ]
  },
  {
   "cell_type": "code",
   "execution_count": 73,
   "metadata": {
    "collapsed": false
   },
   "outputs": [],
   "source": [
    "granted_impNA = granted.copy()\n",
    "# granted_impNA['fully_repaid_previous_loans'].fillna(granted_impNA['fully_repaid_previous_loans'].mean(), inplace=True)"
   ]
  },
  {
   "cell_type": "code",
   "execution_count": 74,
   "metadata": {
    "collapsed": false
   },
   "outputs": [],
   "source": [
    "r, c = KNeighborsRegressor(), KNeighborsClassifier(n_neighbors=5)\n",
    "cols_to_impute = [('fully_repaid_previous_loans', c),\n",
    "                  ('currently_repaying_other_loans', c),\n",
    "                  ('avg_percentage_credit_card_limit_used_last_year', r)]\n",
    "cols_to_scale = ['total_credit_card_limit',\n",
    "                 'saving_amount',\n",
    "                 'checking_amount',\n",
    "                 'yearly_salary',\n",
    "                 'age',\n",
    "                 'dependent_number']"
   ]
  },
  {
   "cell_type": "code",
   "execution_count": 75,
   "metadata": {
    "collapsed": true
   },
   "outputs": [],
   "source": [
    "granted_impNA[cols_to_scale] = MinMaxScaler().fit_transform(granted_impNA[cols_to_scale])"
   ]
  },
  {
   "cell_type": "code",
   "execution_count": 76,
   "metadata": {
    "collapsed": false
   },
   "outputs": [
    {
     "data": {
      "text/html": [
       "<div>\n",
       "<table border=\"1\" class=\"dataframe\">\n",
       "  <thead>\n",
       "    <tr style=\"text-align: right;\">\n",
       "      <th></th>\n",
       "      <th>loan_id</th>\n",
       "      <th>is_first_loan</th>\n",
       "      <th>fully_repaid_previous_loans</th>\n",
       "      <th>currently_repaying_other_loans</th>\n",
       "      <th>total_credit_card_limit</th>\n",
       "      <th>avg_percentage_credit_card_limit_used_last_year</th>\n",
       "      <th>saving_amount</th>\n",
       "      <th>checking_amount</th>\n",
       "      <th>is_employed</th>\n",
       "      <th>yearly_salary</th>\n",
       "      <th>age</th>\n",
       "      <th>dependent_number</th>\n",
       "      <th>loan_repaid</th>\n",
       "      <th>purpose_other</th>\n",
       "      <th>purpose_business</th>\n",
       "      <th>purpose_emergency_funds</th>\n",
       "      <th>purpose_investment</th>\n",
       "      <th>purpose_home</th>\n",
       "    </tr>\n",
       "  </thead>\n",
       "  <tbody>\n",
       "    <tr>\n",
       "      <th>2</th>\n",
       "      <td>135565</td>\n",
       "      <td>1</td>\n",
       "      <td>NaN</td>\n",
       "      <td>NaN</td>\n",
       "      <td>0.511111</td>\n",
       "      <td>0.82</td>\n",
       "      <td>0.195940</td>\n",
       "      <td>0.259932</td>\n",
       "      <td>1</td>\n",
       "      <td>0.252058</td>\n",
       "      <td>0.327869</td>\n",
       "      <td>1.000</td>\n",
       "      <td>1.0</td>\n",
       "      <td>1</td>\n",
       "      <td>0</td>\n",
       "      <td>0</td>\n",
       "      <td>0</td>\n",
       "      <td>0</td>\n",
       "    </tr>\n",
       "    <tr>\n",
       "      <th>5</th>\n",
       "      <td>423171</td>\n",
       "      <td>1</td>\n",
       "      <td>NaN</td>\n",
       "      <td>NaN</td>\n",
       "      <td>0.451852</td>\n",
       "      <td>0.53</td>\n",
       "      <td>0.579175</td>\n",
       "      <td>0.402431</td>\n",
       "      <td>1</td>\n",
       "      <td>0.303498</td>\n",
       "      <td>0.098361</td>\n",
       "      <td>0.125</td>\n",
       "      <td>1.0</td>\n",
       "      <td>1</td>\n",
       "      <td>0</td>\n",
       "      <td>0</td>\n",
       "      <td>0</td>\n",
       "      <td>0</td>\n",
       "    </tr>\n",
       "    <tr>\n",
       "      <th>7</th>\n",
       "      <td>200139</td>\n",
       "      <td>1</td>\n",
       "      <td>NaN</td>\n",
       "      <td>NaN</td>\n",
       "      <td>0.296296</td>\n",
       "      <td>0.57</td>\n",
       "      <td>0.056574</td>\n",
       "      <td>0.209419</td>\n",
       "      <td>1</td>\n",
       "      <td>0.326132</td>\n",
       "      <td>0.295082</td>\n",
       "      <td>1.000</td>\n",
       "      <td>0.0</td>\n",
       "      <td>0</td>\n",
       "      <td>1</td>\n",
       "      <td>0</td>\n",
       "      <td>0</td>\n",
       "      <td>0</td>\n",
       "    </tr>\n",
       "    <tr>\n",
       "      <th>8</th>\n",
       "      <td>991294</td>\n",
       "      <td>0</td>\n",
       "      <td>1.0</td>\n",
       "      <td>0.0</td>\n",
       "      <td>0.518519</td>\n",
       "      <td>0.52</td>\n",
       "      <td>0.241989</td>\n",
       "      <td>0.221572</td>\n",
       "      <td>1</td>\n",
       "      <td>0.605967</td>\n",
       "      <td>0.245902</td>\n",
       "      <td>0.375</td>\n",
       "      <td>1.0</td>\n",
       "      <td>0</td>\n",
       "      <td>0</td>\n",
       "      <td>1</td>\n",
       "      <td>0</td>\n",
       "      <td>0</td>\n",
       "    </tr>\n",
       "    <tr>\n",
       "      <th>9</th>\n",
       "      <td>875332</td>\n",
       "      <td>0</td>\n",
       "      <td>1.0</td>\n",
       "      <td>0.0</td>\n",
       "      <td>0.318519</td>\n",
       "      <td>0.83</td>\n",
       "      <td>0.067851</td>\n",
       "      <td>0.067755</td>\n",
       "      <td>1</td>\n",
       "      <td>0.055556</td>\n",
       "      <td>0.229508</td>\n",
       "      <td>0.875</td>\n",
       "      <td>1.0</td>\n",
       "      <td>0</td>\n",
       "      <td>1</td>\n",
       "      <td>0</td>\n",
       "      <td>0</td>\n",
       "      <td>0</td>\n",
       "    </tr>\n",
       "  </tbody>\n",
       "</table>\n",
       "</div>"
      ],
      "text/plain": [
       "   loan_id  is_first_loan  fully_repaid_previous_loans  \\\n",
       "2   135565              1                          NaN   \n",
       "5   423171              1                          NaN   \n",
       "7   200139              1                          NaN   \n",
       "8   991294              0                          1.0   \n",
       "9   875332              0                          1.0   \n",
       "\n",
       "   currently_repaying_other_loans  total_credit_card_limit  \\\n",
       "2                             NaN                 0.511111   \n",
       "5                             NaN                 0.451852   \n",
       "7                             NaN                 0.296296   \n",
       "8                             0.0                 0.518519   \n",
       "9                             0.0                 0.318519   \n",
       "\n",
       "   avg_percentage_credit_card_limit_used_last_year  saving_amount  \\\n",
       "2                                             0.82       0.195940   \n",
       "5                                             0.53       0.579175   \n",
       "7                                             0.57       0.056574   \n",
       "8                                             0.52       0.241989   \n",
       "9                                             0.83       0.067851   \n",
       "\n",
       "   checking_amount  is_employed  yearly_salary       age  dependent_number  \\\n",
       "2         0.259932            1       0.252058  0.327869             1.000   \n",
       "5         0.402431            1       0.303498  0.098361             0.125   \n",
       "7         0.209419            1       0.326132  0.295082             1.000   \n",
       "8         0.221572            1       0.605967  0.245902             0.375   \n",
       "9         0.067755            1       0.055556  0.229508             0.875   \n",
       "\n",
       "   loan_repaid  purpose_other  purpose_business  purpose_emergency_funds  \\\n",
       "2          1.0              1                 0                        0   \n",
       "5          1.0              1                 0                        0   \n",
       "7          0.0              0                 1                        0   \n",
       "8          1.0              0                 0                        1   \n",
       "9          1.0              0                 1                        0   \n",
       "\n",
       "   purpose_investment  purpose_home  \n",
       "2                   0             0  \n",
       "5                   0             0  \n",
       "7                   0             0  \n",
       "8                   0             0  \n",
       "9                   0             0  "
      ]
     },
     "execution_count": 76,
     "metadata": {},
     "output_type": "execute_result"
    }
   ],
   "source": [
    "granted_impNA.head()"
   ]
  },
  {
   "cell_type": "code",
   "execution_count": 77,
   "metadata": {
    "collapsed": false,
    "scrolled": true
   },
   "outputs": [
    {
     "name": "stdout",
     "output_type": "stream",
     "text": [
      "loan_id                                                0\n",
      "is_first_loan                                          0\n",
      "fully_repaid_previous_loans                            0\n",
      "currently_repaying_other_loans                     25789\n",
      "total_credit_card_limit                                0\n",
      "avg_percentage_credit_card_limit_used_last_year      903\n",
      "saving_amount                                          0\n",
      "checking_amount                                        0\n",
      "is_employed                                            0\n",
      "yearly_salary                                          0\n",
      "age                                                    0\n",
      "dependent_number                                       0\n",
      "loan_repaid                                            0\n",
      "purpose_other                                          0\n",
      "purpose_business                                       0\n",
      "purpose_emergency_funds                                0\n",
      "purpose_investment                                     0\n",
      "purpose_home                                           0\n",
      "dtype: int64\n",
      "loan_id                                              0\n",
      "is_first_loan                                        0\n",
      "fully_repaid_previous_loans                          0\n",
      "currently_repaying_other_loans                       0\n",
      "total_credit_card_limit                              0\n",
      "avg_percentage_credit_card_limit_used_last_year    903\n",
      "saving_amount                                        0\n",
      "checking_amount                                      0\n",
      "is_employed                                          0\n",
      "yearly_salary                                        0\n",
      "age                                                  0\n",
      "dependent_number                                     0\n",
      "loan_repaid                                          0\n",
      "purpose_other                                        0\n",
      "purpose_business                                     0\n",
      "purpose_emergency_funds                              0\n",
      "purpose_investment                                   0\n",
      "purpose_home                                         0\n",
      "dtype: int64\n",
      "loan_id                                            0\n",
      "is_first_loan                                      0\n",
      "fully_repaid_previous_loans                        0\n",
      "currently_repaying_other_loans                     0\n",
      "total_credit_card_limit                            0\n",
      "avg_percentage_credit_card_limit_used_last_year    0\n",
      "saving_amount                                      0\n",
      "checking_amount                                    0\n",
      "is_employed                                        0\n",
      "yearly_salary                                      0\n",
      "age                                                0\n",
      "dependent_number                                   0\n",
      "loan_repaid                                        0\n",
      "purpose_other                                      0\n",
      "purpose_business                                   0\n",
      "purpose_emergency_funds                            0\n",
      "purpose_investment                                 0\n",
      "purpose_home                                       0\n",
      "dtype: int64\n"
     ]
    }
   ],
   "source": [
    "for col, model in cols_to_impute:\n",
    "    colImputed = fill_na_KNN(granted_impNA, col, model)\n",
    "    granted_impNA[col] = colImputed\n",
    "    print granted_impNA.isnull().sum()"
   ]
  },
  {
   "cell_type": "code",
   "execution_count": 78,
   "metadata": {
    "collapsed": false,
    "scrolled": true
   },
   "outputs": [
    {
     "name": "stdout",
     "output_type": "stream",
     "text": [
      "(47654, 18)\n"
     ]
    },
    {
     "data": {
      "text/html": [
       "<div>\n",
       "<table border=\"1\" class=\"dataframe\">\n",
       "  <thead>\n",
       "    <tr style=\"text-align: right;\">\n",
       "      <th></th>\n",
       "      <th>loan_id</th>\n",
       "      <th>is_first_loan</th>\n",
       "      <th>fully_repaid_previous_loans</th>\n",
       "      <th>currently_repaying_other_loans</th>\n",
       "      <th>total_credit_card_limit</th>\n",
       "      <th>avg_percentage_credit_card_limit_used_last_year</th>\n",
       "      <th>saving_amount</th>\n",
       "      <th>checking_amount</th>\n",
       "      <th>is_employed</th>\n",
       "      <th>yearly_salary</th>\n",
       "      <th>age</th>\n",
       "      <th>dependent_number</th>\n",
       "      <th>loan_repaid</th>\n",
       "      <th>purpose_other</th>\n",
       "      <th>purpose_business</th>\n",
       "      <th>purpose_emergency_funds</th>\n",
       "      <th>purpose_investment</th>\n",
       "      <th>purpose_home</th>\n",
       "    </tr>\n",
       "  </thead>\n",
       "  <tbody>\n",
       "    <tr>\n",
       "      <th>2</th>\n",
       "      <td>135565</td>\n",
       "      <td>1</td>\n",
       "      <td>1.0</td>\n",
       "      <td>0.0</td>\n",
       "      <td>0.511111</td>\n",
       "      <td>0.82</td>\n",
       "      <td>0.195940</td>\n",
       "      <td>0.259932</td>\n",
       "      <td>1</td>\n",
       "      <td>0.252058</td>\n",
       "      <td>0.327869</td>\n",
       "      <td>1.000</td>\n",
       "      <td>1.0</td>\n",
       "      <td>1</td>\n",
       "      <td>0</td>\n",
       "      <td>0</td>\n",
       "      <td>0</td>\n",
       "      <td>0</td>\n",
       "    </tr>\n",
       "    <tr>\n",
       "      <th>5</th>\n",
       "      <td>423171</td>\n",
       "      <td>1</td>\n",
       "      <td>1.0</td>\n",
       "      <td>0.0</td>\n",
       "      <td>0.451852</td>\n",
       "      <td>0.53</td>\n",
       "      <td>0.579175</td>\n",
       "      <td>0.402431</td>\n",
       "      <td>1</td>\n",
       "      <td>0.303498</td>\n",
       "      <td>0.098361</td>\n",
       "      <td>0.125</td>\n",
       "      <td>1.0</td>\n",
       "      <td>1</td>\n",
       "      <td>0</td>\n",
       "      <td>0</td>\n",
       "      <td>0</td>\n",
       "      <td>0</td>\n",
       "    </tr>\n",
       "    <tr>\n",
       "      <th>7</th>\n",
       "      <td>200139</td>\n",
       "      <td>1</td>\n",
       "      <td>1.0</td>\n",
       "      <td>0.0</td>\n",
       "      <td>0.296296</td>\n",
       "      <td>0.57</td>\n",
       "      <td>0.056574</td>\n",
       "      <td>0.209419</td>\n",
       "      <td>1</td>\n",
       "      <td>0.326132</td>\n",
       "      <td>0.295082</td>\n",
       "      <td>1.000</td>\n",
       "      <td>0.0</td>\n",
       "      <td>0</td>\n",
       "      <td>1</td>\n",
       "      <td>0</td>\n",
       "      <td>0</td>\n",
       "      <td>0</td>\n",
       "    </tr>\n",
       "    <tr>\n",
       "      <th>8</th>\n",
       "      <td>991294</td>\n",
       "      <td>0</td>\n",
       "      <td>1.0</td>\n",
       "      <td>0.0</td>\n",
       "      <td>0.518519</td>\n",
       "      <td>0.52</td>\n",
       "      <td>0.241989</td>\n",
       "      <td>0.221572</td>\n",
       "      <td>1</td>\n",
       "      <td>0.605967</td>\n",
       "      <td>0.245902</td>\n",
       "      <td>0.375</td>\n",
       "      <td>1.0</td>\n",
       "      <td>0</td>\n",
       "      <td>0</td>\n",
       "      <td>1</td>\n",
       "      <td>0</td>\n",
       "      <td>0</td>\n",
       "    </tr>\n",
       "    <tr>\n",
       "      <th>9</th>\n",
       "      <td>875332</td>\n",
       "      <td>0</td>\n",
       "      <td>1.0</td>\n",
       "      <td>0.0</td>\n",
       "      <td>0.318519</td>\n",
       "      <td>0.83</td>\n",
       "      <td>0.067851</td>\n",
       "      <td>0.067755</td>\n",
       "      <td>1</td>\n",
       "      <td>0.055556</td>\n",
       "      <td>0.229508</td>\n",
       "      <td>0.875</td>\n",
       "      <td>1.0</td>\n",
       "      <td>0</td>\n",
       "      <td>1</td>\n",
       "      <td>0</td>\n",
       "      <td>0</td>\n",
       "      <td>0</td>\n",
       "    </tr>\n",
       "  </tbody>\n",
       "</table>\n",
       "</div>"
      ],
      "text/plain": [
       "   loan_id  is_first_loan  fully_repaid_previous_loans  \\\n",
       "2   135565              1                          1.0   \n",
       "5   423171              1                          1.0   \n",
       "7   200139              1                          1.0   \n",
       "8   991294              0                          1.0   \n",
       "9   875332              0                          1.0   \n",
       "\n",
       "   currently_repaying_other_loans  total_credit_card_limit  \\\n",
       "2                             0.0                 0.511111   \n",
       "5                             0.0                 0.451852   \n",
       "7                             0.0                 0.296296   \n",
       "8                             0.0                 0.518519   \n",
       "9                             0.0                 0.318519   \n",
       "\n",
       "   avg_percentage_credit_card_limit_used_last_year  saving_amount  \\\n",
       "2                                             0.82       0.195940   \n",
       "5                                             0.53       0.579175   \n",
       "7                                             0.57       0.056574   \n",
       "8                                             0.52       0.241989   \n",
       "9                                             0.83       0.067851   \n",
       "\n",
       "   checking_amount  is_employed  yearly_salary       age  dependent_number  \\\n",
       "2         0.259932            1       0.252058  0.327869             1.000   \n",
       "5         0.402431            1       0.303498  0.098361             0.125   \n",
       "7         0.209419            1       0.326132  0.295082             1.000   \n",
       "8         0.221572            1       0.605967  0.245902             0.375   \n",
       "9         0.067755            1       0.055556  0.229508             0.875   \n",
       "\n",
       "   loan_repaid  purpose_other  purpose_business  purpose_emergency_funds  \\\n",
       "2          1.0              1                 0                        0   \n",
       "5          1.0              1                 0                        0   \n",
       "7          0.0              0                 1                        0   \n",
       "8          1.0              0                 0                        1   \n",
       "9          1.0              0                 1                        0   \n",
       "\n",
       "   purpose_investment  purpose_home  \n",
       "2                   0             0  \n",
       "5                   0             0  \n",
       "7                   0             0  \n",
       "8                   0             0  \n",
       "9                   0             0  "
      ]
     },
     "execution_count": 78,
     "metadata": {},
     "output_type": "execute_result"
    }
   ],
   "source": [
    "print granted_impNA.shape\n",
    "granted_impNA.head()"
   ]
  },
  {
   "cell_type": "markdown",
   "metadata": {},
   "source": [
    "## 5. Drop 'loan_id' column"
   ]
  },
  {
   "cell_type": "code",
   "execution_count": 79,
   "metadata": {
    "collapsed": false
   },
   "outputs": [],
   "source": [
    "granted_noNA.drop('loan_id', axis=1, inplace = True)\n",
    "granted_impNA.drop('loan_id', axis=1, inplace = True)"
   ]
  },
  {
   "cell_type": "code",
   "execution_count": 80,
   "metadata": {
    "collapsed": false
   },
   "outputs": [
    {
     "name": "stdout",
     "output_type": "stream",
     "text": [
      "(47654, 14)\n",
      "(47654, 17)\n"
     ]
    }
   ],
   "source": [
    "print granted_noNA.shape\n",
    "print granted_impNA.shape"
   ]
  },
  {
   "cell_type": "markdown",
   "metadata": {},
   "source": [
    "## 6. Scaling continued...\n",
    "\n",
    "Lastly, bring back the non-scaled version of both 'noNA' and 'impNA' datasets.\n"
   ]
  },
  {
   "cell_type": "code",
   "execution_count": 81,
   "metadata": {
    "collapsed": false
   },
   "outputs": [],
   "source": [
    "granted_noNA_sca = granted_noNA.copy()\n",
    "granted_noNA_sca[cols_to_scale] = MinMaxScaler().fit_transform(granted_noNA_sca[cols_to_scale])"
   ]
  },
  {
   "cell_type": "code",
   "execution_count": 82,
   "metadata": {
    "collapsed": true
   },
   "outputs": [],
   "source": [
    "granted_impNA_sca = granted_impNA.copy()\n",
    "granted_impNA[cols_to_scale] = granted_noNA[cols_to_scale]"
   ]
  },
  {
   "cell_type": "code",
   "execution_count": 83,
   "metadata": {
    "collapsed": false
   },
   "outputs": [
    {
     "name": "stdout",
     "output_type": "stream",
     "text": [
      "(47654, 14)\n",
      "(47654, 17)\n",
      "(47654, 14)\n",
      "(47654, 17)\n"
     ]
    }
   ],
   "source": [
    "print granted_noNA.shape\n",
    "print granted_impNA.shape\n",
    "\n",
    "print granted_noNA_sca.shape\n",
    "print granted_impNA_sca.shape"
   ]
  },
  {
   "cell_type": "markdown",
   "metadata": {},
   "source": [
    "# Build models to predict grant repayment"
   ]
  },
  {
   "cell_type": "code",
   "execution_count": 87,
   "metadata": {
    "collapsed": true
   },
   "outputs": [],
   "source": [
    "dfs = [granted_noNA, granted_impNA, granted_noNA_sca, granted_impNA_sca]"
   ]
  },
  {
   "cell_type": "markdown",
   "metadata": {},
   "source": [
    "## Dataset 1: Ignored NAs, not scaled\n",
    "\n",
    "### 1. Make training and testing data"
   ]
  },
  {
   "cell_type": "code",
   "execution_count": 106,
   "metadata": {
    "collapsed": false
   },
   "outputs": [
    {
     "name": "stdout",
     "output_type": "stream",
     "text": [
      "(33357, 13)\n",
      "(14297, 13)\n",
      "(33357,)\n",
      "(14297,)\n"
     ]
    }
   ],
   "source": [
    "Y = dfs[0].loan_repaid\n",
    "X = dfs[0].drop('loan_repaid', axis = 1)\n",
    "X_train, X_test, Y_train, Y_test = model_selection.train_test_split(X, Y, test_size=0.3, random_state=0)\n",
    "\n",
    "print X_train.shape\n",
    "print X_test.shape\n",
    "print Y_train.shape\n",
    "print Y_test.shape"
   ]
  },
  {
   "cell_type": "markdown",
   "metadata": {},
   "source": [
    "### 2. Set up model and cross-validation\n",
    "\n",
    "Note a bias-variance tradeoff in choosing k -\n",
    "- Small k: Low variance in predicted results, but high bias in models. (e.g. split into half; validate twice; one model may not be too different from the other, but they may not generalize well because they haven't seen too much data)\n",
    "- Large k: High variance in predicted results, but low bias in models. (e.g. leave-one-out; validate n times; the final model capture the characteristics of a lot of models, but may be overfitted - n times! - to existing data)"
   ]
  },
  {
   "cell_type": "code",
   "execution_count": 131,
   "metadata": {
    "collapsed": false
   },
   "outputs": [],
   "source": [
    "key_value_pairs = [('naive Bayes', GaussianNB()),\n",
    "                   ('logistic regression', linear_model.LogisticRegression()),\n",
    "                   ('SVM', svm.SVC(degree=0.5)),\n",
    "                   ('random forest', ensemble.RandomForestClassifier(n_estimators=100))\n",
    "                  ]\n",
    "models = collections.OrderedDict(key_value_pairs)\n",
    "\n",
    "cv10 = model_selection.KFold(n_splits=10)"
   ]
  },
  {
   "cell_type": "markdown",
   "metadata": {
    "collapsed": true
   },
   "source": [
    "### 3. Perform cross-validation"
   ]
  },
  {
   "cell_type": "code",
   "execution_count": 107,
   "metadata": {
    "collapsed": false
   },
   "outputs": [
    {
     "data": {
      "text/html": [
       "<div>\n",
       "<table border=\"1\" class=\"dataframe\">\n",
       "  <thead>\n",
       "    <tr style=\"text-align: right;\">\n",
       "      <th></th>\n",
       "      <th>accuracy</th>\n",
       "      <th>precision</th>\n",
       "      <th>recall</th>\n",
       "      <th>sensitivity</th>\n",
       "      <th>specificity</th>\n",
       "    </tr>\n",
       "  </thead>\n",
       "  <tbody>\n",
       "    <tr>\n",
       "      <th>0</th>\n",
       "      <td>0.905276</td>\n",
       "      <td>0.942391</td>\n",
       "      <td>0.909217</td>\n",
       "      <td>0.909217</td>\n",
       "      <td>0.898046</td>\n",
       "    </tr>\n",
       "    <tr>\n",
       "      <th>1</th>\n",
       "      <td>0.909173</td>\n",
       "      <td>0.937739</td>\n",
       "      <td>0.918817</td>\n",
       "      <td>0.918817</td>\n",
       "      <td>0.892116</td>\n",
       "    </tr>\n",
       "    <tr>\n",
       "      <th>2</th>\n",
       "      <td>0.907974</td>\n",
       "      <td>0.941948</td>\n",
       "      <td>0.916629</td>\n",
       "      <td>0.916629</td>\n",
       "      <td>0.891323</td>\n",
       "    </tr>\n",
       "    <tr>\n",
       "      <th>3</th>\n",
       "      <td>0.910671</td>\n",
       "      <td>0.932921</td>\n",
       "      <td>0.925873</td>\n",
       "      <td>0.925873</td>\n",
       "      <td>0.884236</td>\n",
       "    </tr>\n",
       "    <tr>\n",
       "      <th>4</th>\n",
       "      <td>0.921163</td>\n",
       "      <td>0.946190</td>\n",
       "      <td>0.929808</td>\n",
       "      <td>0.929808</td>\n",
       "      <td>0.905755</td>\n",
       "    </tr>\n",
       "    <tr>\n",
       "      <th>5</th>\n",
       "      <td>0.911571</td>\n",
       "      <td>0.949707</td>\n",
       "      <td>0.910154</td>\n",
       "      <td>0.910154</td>\n",
       "      <td>0.914095</td>\n",
       "    </tr>\n",
       "    <tr>\n",
       "      <th>6</th>\n",
       "      <td>0.912470</td>\n",
       "      <td>0.947814</td>\n",
       "      <td>0.917615</td>\n",
       "      <td>0.917615</td>\n",
       "      <td>0.902546</td>\n",
       "    </tr>\n",
       "    <tr>\n",
       "      <th>7</th>\n",
       "      <td>0.914843</td>\n",
       "      <td>0.943765</td>\n",
       "      <td>0.919485</td>\n",
       "      <td>0.919485</td>\n",
       "      <td>0.906958</td>\n",
       "    </tr>\n",
       "    <tr>\n",
       "      <th>8</th>\n",
       "      <td>0.909445</td>\n",
       "      <td>0.933715</td>\n",
       "      <td>0.923149</td>\n",
       "      <td>0.923149</td>\n",
       "      <td>0.885502</td>\n",
       "    </tr>\n",
       "    <tr>\n",
       "      <th>9</th>\n",
       "      <td>0.914243</td>\n",
       "      <td>0.948850</td>\n",
       "      <td>0.919509</td>\n",
       "      <td>0.919509</td>\n",
       "      <td>0.904049</td>\n",
       "    </tr>\n",
       "  </tbody>\n",
       "</table>\n",
       "</div>"
      ],
      "text/plain": [
       "   accuracy  precision    recall  sensitivity  specificity\n",
       "0  0.905276   0.942391  0.909217     0.909217     0.898046\n",
       "1  0.909173   0.937739  0.918817     0.918817     0.892116\n",
       "2  0.907974   0.941948  0.916629     0.916629     0.891323\n",
       "3  0.910671   0.932921  0.925873     0.925873     0.884236\n",
       "4  0.921163   0.946190  0.929808     0.929808     0.905755\n",
       "5  0.911571   0.949707  0.910154     0.910154     0.914095\n",
       "6  0.912470   0.947814  0.917615     0.917615     0.902546\n",
       "7  0.914843   0.943765  0.919485     0.919485     0.906958\n",
       "8  0.909445   0.933715  0.923149     0.923149     0.885502\n",
       "9  0.914243   0.948850  0.919509     0.919509     0.904049"
      ]
     },
     "execution_count": 107,
     "metadata": {},
     "output_type": "execute_result"
    }
   ],
   "source": [
    "model = models.get('random forest')\n",
    "Y_pred, Y_true = performCV(X_train, Y_train, cv=cv10, model = model)\n",
    "Y_pred_unpack, Y_true_unpack = unpackCVResults(Y_pred, Y_true)\n",
    "cvScore = getCVScores(Y_pred_unpack, Y_true_unpack)\n",
    "\n",
    "cvScore"
   ]
  },
  {
   "cell_type": "markdown",
   "metadata": {},
   "source": [
    "Simply throwing away the NA cols, predicts us the probability of users repaying / defaulting on their loans pretty darn well. (Note that RFs are rather tolerant to no scaling.)\n",
    "\n",
    "### 4. Apply on unseen (test) data"
   ]
  },
  {
   "cell_type": "code",
   "execution_count": 98,
   "metadata": {
    "collapsed": false
   },
   "outputs": [
    {
     "name": "stdout",
     "output_type": "stream",
     "text": [
      "Model:  RandomForestClassifier(bootstrap=True, class_weight=None, criterion='gini',\n",
      "            max_depth=None, max_features='auto', max_leaf_nodes=None,\n",
      "            min_impurity_split=1e-07, min_samples_leaf=1,\n",
      "            min_samples_split=2, min_weight_fraction_leaf=0.0,\n",
      "            n_estimators=100, n_jobs=1, oob_score=False, random_state=None,\n",
      "            verbose=0, warm_start=False)\n",
      "Testing accuracy:  0.915506749668\n",
      "Testing precision:  0.94496942746\n",
      "Testing recall:  0.922609356344\n"
     ]
    }
   ],
   "source": [
    "Y_test_pred = model.fit(X_train, Y_train).predict_proba(X_test)\n",
    "Y_test_pred_unpack = [pred_val.argmax() for pred_val in Y_test_pred]\n",
    "\n",
    "cm_test = metrics.confusion_matrix(y_true = Y_test, y_pred = Y_test_pred_unpack, labels=None)\n",
    "accuracy, sensitivity, specificity, precision = evalModel(cm_test)\n",
    "print 'Model: ', model\n",
    "print 'Testing accuracy: ', accuracy\n",
    "print 'Testing precision: ', precision\n",
    "print 'Testing recall: ', sensitivity"
   ]
  },
  {
   "cell_type": "markdown",
   "metadata": {},
   "source": [
    "### 5. Insights from model"
   ]
  },
  {
   "cell_type": "code",
   "execution_count": 99,
   "metadata": {
    "collapsed": false
   },
   "outputs": [
    {
     "name": "stdout",
     "output_type": "stream",
     "text": [
      "Feature ranking:\n",
      "1. saving_amount (0.321948)\n",
      "2. checking_amount (0.275183)\n",
      "3. yearly_salary (0.149150)\n",
      "4. total_credit_card_limit (0.120505)\n",
      "5. age (0.044307)\n",
      "6. is_employed (0.027806)\n",
      "7. dependent_number (0.027349)\n",
      "8. purpose_emergency_funds (0.008484)\n",
      "9. is_first_loan (0.007772)\n",
      "10. purpose_business (0.004682)\n",
      "11. purpose_investment (0.004497)\n",
      "12. purpose_other (0.004294)\n",
      "13. purpose_home (0.004023)\n"
     ]
    }
   ],
   "source": [
    "Y_test_pred_featImp = model.fit(X_train, Y_train)\n",
    "\n",
    "importances = model.feature_importances_\n",
    "std = np.std([indivTree.feature_importances_ for indivTree in model.estimators_],\n",
    "             axis=0)\n",
    "indices = np.argsort(importances)[::-1]\n",
    "\n",
    "print(\"Feature ranking:\")\n",
    "\n",
    "for f in range(X_train.shape[1]):\n",
    "    print(\"%d. %s (%f)\" % (f + 1, X_train.columns[indices[f]], importances[indices[f]]))"
   ]
  },
  {
   "cell_type": "markdown",
   "metadata": {},
   "source": [
    "Several things checked out against the simple correlation run earlier:\n",
    "- Cash positions such as back account, salary matter highly\n",
    "- Loan purpose for emergency matters more than the other purposes\n",
    "\n",
    "Age, interestingly, matters moderately highly.\n",
    "\n",
    "Now plot the feature importances of the forest."
   ]
  },
  {
   "cell_type": "code",
   "execution_count": 100,
   "metadata": {
    "collapsed": false
   },
   "outputs": [
    {
     "data": {
      "image/png": "[encoded data removed]",
      "text/plain": [
       "<matplotlib.figure.Figure at 0x11a6824d0>"
      ]
     },
     "metadata": {},
     "output_type": "display_data"
    }
   ],
   "source": [
    "fig, ax = plt.subplots()\n",
    "# plt.figure() # If this line is included, an empty plot appears.\n",
    "plt.title(\"Feature importances\")\n",
    "plt.bar(range(X_train.shape[1]), importances[indices],\n",
    "       color=\"g\", yerr=std[indices], align=\"center\")\n",
    "plt.xticks(range(X_train.shape[1]), indices, rotation=90)\n",
    "plt.xlim([-1, X_train.shape[1]])\n",
    "ax.set_xticklabels(X_train.columns[indices], rotation=90, size=15)\n",
    "plt.show() # If this line is not included, a bunch of msgs appear"
   ]
  },
  {
   "cell_type": "markdown",
   "metadata": {},
   "source": [
    "While one can try a different model or do grid-search to tune the RF parameters, priority of this action is low since default params performed pretty well in this case. It would be more interesting to compare with a model built from the dataset with features containing guessed NA values."
   ]
  },
  {
   "cell_type": "markdown",
   "metadata": {},
   "source": [
    "## Dataset 2: Imputed NAs, not scaled\n",
    "\n",
    "### 1. Make training and testing data"
   ]
  },
  {
   "cell_type": "code",
   "execution_count": 108,
   "metadata": {
    "collapsed": false
   },
   "outputs": [
    {
     "name": "stdout",
     "output_type": "stream",
     "text": [
      "(33357, 16)\n",
      "(14297, 16)\n",
      "(33357,)\n",
      "(14297,)\n"
     ]
    }
   ],
   "source": [
    "Y = dfs[1].loan_repaid\n",
    "X = dfs[1].drop('loan_repaid', axis = 1)\n",
    "X_train, X_test, Y_train, Y_test = model_selection.train_test_split(X, Y, test_size=0.3, random_state=0)\n",
    "\n",
    "print X_train.shape\n",
    "print X_test.shape\n",
    "print Y_train.shape\n",
    "print Y_test.shape"
   ]
  },
  {
   "cell_type": "markdown",
   "metadata": {},
   "source": [
    "### 2. Set up model and cross-validation"
   ]
  },
  {
   "cell_type": "code",
   "execution_count": 95,
   "metadata": {
    "collapsed": false
   },
   "outputs": [],
   "source": [
    "key_value_pairs = [('naive Bayes', GaussianNB()),\n",
    "                   ('logistic regression', linear_model.LogisticRegression()),\n",
    "                   ('SVM', svm.SVC(degree=0.5)),\n",
    "                   ('decision tree', tree.DecisionTreeClassifier()),\n",
    "                   ('random forest', ensemble.RandomForestClassifier(n_estimators=100))\n",
    "                  ]\n",
    "models = collections.OrderedDict(key_value_pairs)\n",
    "\n",
    "cv10 = model_selection.KFold(n_splits=10)"
   ]
  },
  {
   "cell_type": "markdown",
   "metadata": {
    "collapsed": true
   },
   "source": [
    "### 3. Perform cross-validation"
   ]
  },
  {
   "cell_type": "code",
   "execution_count": 103,
   "metadata": {
    "collapsed": false
   },
   "outputs": [
    {
     "data": {
      "text/html": [
       "<div>\n",
       "<table border=\"1\" class=\"dataframe\">\n",
       "  <thead>\n",
       "    <tr style=\"text-align: right;\">\n",
       "      <th></th>\n",
       "      <th>accuracy</th>\n",
       "      <th>precision</th>\n",
       "      <th>recall</th>\n",
       "      <th>sensitivity</th>\n",
       "      <th>specificity</th>\n",
       "    </tr>\n",
       "  </thead>\n",
       "  <tbody>\n",
       "    <tr>\n",
       "      <th>0</th>\n",
       "      <td>0.915168</td>\n",
       "      <td>0.944972</td>\n",
       "      <td>0.922649</td>\n",
       "      <td>0.922649</td>\n",
       "      <td>0.901444</td>\n",
       "    </tr>\n",
       "    <tr>\n",
       "      <th>1</th>\n",
       "      <td>0.914269</td>\n",
       "      <td>0.943296</td>\n",
       "      <td>0.921164</td>\n",
       "      <td>0.921164</td>\n",
       "      <td>0.902075</td>\n",
       "    </tr>\n",
       "    <tr>\n",
       "      <th>2</th>\n",
       "      <td>0.913369</td>\n",
       "      <td>0.944496</td>\n",
       "      <td>0.922551</td>\n",
       "      <td>0.922551</td>\n",
       "      <td>0.895706</td>\n",
       "    </tr>\n",
       "    <tr>\n",
       "      <th>3</th>\n",
       "      <td>0.921163</td>\n",
       "      <td>0.940199</td>\n",
       "      <td>0.935316</td>\n",
       "      <td>0.935316</td>\n",
       "      <td>0.896552</td>\n",
       "    </tr>\n",
       "    <tr>\n",
       "      <th>4</th>\n",
       "      <td>0.925959</td>\n",
       "      <td>0.947867</td>\n",
       "      <td>0.935891</td>\n",
       "      <td>0.935891</td>\n",
       "      <td>0.908257</td>\n",
       "    </tr>\n",
       "    <tr>\n",
       "      <th>5</th>\n",
       "      <td>0.917566</td>\n",
       "      <td>0.952821</td>\n",
       "      <td>0.916706</td>\n",
       "      <td>0.916706</td>\n",
       "      <td>0.919099</td>\n",
       "    </tr>\n",
       "    <tr>\n",
       "      <th>6</th>\n",
       "      <td>0.920264</td>\n",
       "      <td>0.950537</td>\n",
       "      <td>0.927173</td>\n",
       "      <td>0.927173</td>\n",
       "      <td>0.906936</td>\n",
       "    </tr>\n",
       "    <tr>\n",
       "      <th>7</th>\n",
       "      <td>0.922339</td>\n",
       "      <td>0.947907</td>\n",
       "      <td>0.927585</td>\n",
       "      <td>0.927585</td>\n",
       "      <td>0.913430</td>\n",
       "    </tr>\n",
       "    <tr>\n",
       "      <th>8</th>\n",
       "      <td>0.914843</td>\n",
       "      <td>0.934690</td>\n",
       "      <td>0.931165</td>\n",
       "      <td>0.931165</td>\n",
       "      <td>0.886326</td>\n",
       "    </tr>\n",
       "    <tr>\n",
       "      <th>9</th>\n",
       "      <td>0.918141</td>\n",
       "      <td>0.948324</td>\n",
       "      <td>0.926330</td>\n",
       "      <td>0.926330</td>\n",
       "      <td>0.902289</td>\n",
       "    </tr>\n",
       "  </tbody>\n",
       "</table>\n",
       "</div>"
      ],
      "text/plain": [
       "   accuracy  precision    recall  sensitivity  specificity\n",
       "0  0.915168   0.944972  0.922649     0.922649     0.901444\n",
       "1  0.914269   0.943296  0.921164     0.921164     0.902075\n",
       "2  0.913369   0.944496  0.922551     0.922551     0.895706\n",
       "3  0.921163   0.940199  0.935316     0.935316     0.896552\n",
       "4  0.925959   0.947867  0.935891     0.935891     0.908257\n",
       "5  0.917566   0.952821  0.916706     0.916706     0.919099\n",
       "6  0.920264   0.950537  0.927173     0.927173     0.906936\n",
       "7  0.922339   0.947907  0.927585     0.927585     0.913430\n",
       "8  0.914843   0.934690  0.931165     0.931165     0.886326\n",
       "9  0.918141   0.948324  0.926330     0.926330     0.902289"
      ]
     },
     "execution_count": 103,
     "metadata": {},
     "output_type": "execute_result"
    }
   ],
   "source": [
    "model = models.get('random forest')\n",
    "Y_pred, Y_true = performCV(X_train, Y_train, cv=cv10, model = model)\n",
    "Y_pred_unpack, Y_true_unpack = unpackCVResults(Y_pred, Y_true)\n",
    "cvScore = getCVScores(Y_pred_unpack, Y_true_unpack)\n",
    "\n",
    "cvScore"
   ]
  },
  {
   "cell_type": "markdown",
   "metadata": {},
   "source": [
    "Is this better? Can't quite tell. Let's go onto testing.\n",
    "\n",
    "### 4. Apply on unseen (test) data"
   ]
  },
  {
   "cell_type": "code",
   "execution_count": 104,
   "metadata": {
    "collapsed": false
   },
   "outputs": [
    {
     "name": "stdout",
     "output_type": "stream",
     "text": [
      "Model:  RandomForestClassifier(bootstrap=True, class_weight=None, criterion='gini',\n",
      "            max_depth=None, max_features='auto', max_leaf_nodes=None,\n",
      "            min_impurity_split=1e-07, min_samples_leaf=1,\n",
      "            min_samples_split=2, min_weight_fraction_leaf=0.0,\n",
      "            n_estimators=100, n_jobs=1, oob_score=False, random_state=None,\n",
      "            verbose=0, warm_start=False)\n",
      "Testing accuracy:  0.922011610827\n",
      "Testing precision:  0.947601149679\n",
      "Testing recall:  0.930424400304\n"
     ]
    }
   ],
   "source": [
    "Y_test_pred = model.fit(X_train, Y_train).predict_proba(X_test)\n",
    "Y_test_pred_unpack = [pred_val.argmax() for pred_val in Y_test_pred]\n",
    "\n",
    "cm_test = metrics.confusion_matrix(y_true = Y_test, y_pred = Y_test_pred_unpack, labels=None)\n",
    "accuracy, sensitivity, specificity, precision = evalModel(cm_test)\n",
    "print 'Model: ', model\n",
    "print 'Testing accuracy: ', accuracy\n",
    "print 'Testing precision: ', precision\n",
    "print 'Testing recall: ', sensitivity"
   ]
  },
  {
   "cell_type": "markdown",
   "metadata": {},
   "source": [
    "Slightly better testing performance, from **91.5%** to **92.2%** accuracy.\n",
    "\n",
    "### 5. Insights from model"
   ]
  },
  {
   "cell_type": "code",
   "execution_count": 136,
   "metadata": {
    "collapsed": false
   },
   "outputs": [
    {
     "name": "stdout",
     "output_type": "stream",
     "text": [
      "Feature ranking:\n",
      "1. saving_amount (0.313070)\n",
      "2. checking_amount (0.260543)\n",
      "3. yearly_salary (0.127130)\n",
      "4. total_credit_card_limit (0.103917)\n",
      "5. avg_percentage_credit_card_limit_used_last_year (0.046815)\n",
      "6. age (0.033202)\n",
      "7. is_employed (0.030637)\n",
      "8. currently_repaying_other_loans (0.023752)\n",
      "9. dependent_number (0.022118)\n",
      "10. is_first_loan (0.011961)\n",
      "11. purpose_emergency_funds (0.006753)\n",
      "12. purpose_business (0.004955)\n",
      "13. purpose_investment (0.004498)\n",
      "14. purpose_home (0.004279)\n",
      "15. purpose_other (0.004154)\n",
      "16. fully_repaid_previous_loans (0.002215)\n"
     ]
    }
   ],
   "source": [
    "Y_test_pred_featImp = model.fit(X_train, Y_train)\n",
    "\n",
    "importances = model.feature_importances_\n",
    "std = np.std([indivTree.feature_importances_ for indivTree in model.estimators_],\n",
    "             axis=0)\n",
    "indices = np.argsort(importances)[::-1]\n",
    "\n",
    "print(\"Feature ranking:\")\n",
    "\n",
    "for f in range(X_train.shape[1]):\n",
    "    print(\"%d. %s (%f)\" % (f + 1, X_train.columns[indices[f]], importances[indices[f]]))"
   ]
  },
  {
   "cell_type": "markdown",
   "metadata": {},
   "source": [
    "The presence of several moderately high-ranking features improved the model accuracy, especially 'avg_percentage_credit_card_limit_used_last_year'.\n",
    "\n",
    "Whether or not previous loans have been fully repaid matters the least. It explains why leaving it out previously didn't impact the accuracy all that much.\n",
    "\n",
    "Now plot the feature importances of the forest."
   ]
  },
  {
   "cell_type": "code",
   "execution_count": 110,
   "metadata": {
    "collapsed": false
   },
   "outputs": [
    {
     "data": {
      "image/png": "[encoded data removed]",
      "text/plain": [
       "<matplotlib.figure.Figure at 0x11aa6ab10>"
      ]
     },
     "metadata": {},
     "output_type": "display_data"
    }
   ],
   "source": [
    "fig, ax = plt.subplots()\n",
    "# plt.figure() # If this line is included, an empty plot appears.\n",
    "plt.title(\"Feature importances\")\n",
    "plt.bar(range(X_train.shape[1]), importances[indices],\n",
    "       color=\"g\", yerr=std[indices], align=\"center\")\n",
    "plt.xticks(range(X_train.shape[1]), indices, rotation=90)\n",
    "plt.xlim([-1, X_train.shape[1]])\n",
    "ax.set_xticklabels(X_train.columns[indices], rotation=90, size=15)\n",
    "plt.show() # If this line is not included, a bunch of msgs appear"
   ]
  },
  {
   "cell_type": "markdown",
   "metadata": {},
   "source": [
    "# Predict repayment in those denied the loan\n",
    "\n",
    "Now, to see how many cases the bank missed out on.\n",
    "\n",
    "First we need to take the \"loans denied\" data through the same cleaning. Then use the granted data with imputed missing values for prediction.\n",
    "\n",
    "Here it would be interesting to note if a better model can be built by imputing missing values from the entire loanData, not just from the granted dataset. Let's take the imputation of the granted dataset as what we've done for now.\n",
    "\n",
    "Just to remind ourselves, the granted data has 16 features:"
   ]
  },
  {
   "cell_type": "code",
   "execution_count": 111,
   "metadata": {
    "collapsed": false
   },
   "outputs": [
    {
     "data": {
      "text/plain": [
       "(47654, 17)"
      ]
     },
     "execution_count": 111,
     "metadata": {},
     "output_type": "execute_result"
    }
   ],
   "source": [
    "granted_impNA.shape"
   ]
  },
  {
   "cell_type": "markdown",
   "metadata": {},
   "source": [
    "## Clean data\n",
    "### 1. Drop unhelpful columns"
   ]
  },
  {
   "cell_type": "code",
   "execution_count": 114,
   "metadata": {
    "collapsed": false
   },
   "outputs": [
    {
     "name": "stdout",
     "output_type": "stream",
     "text": [
      "(53446, 12)\n"
     ]
    },
    {
     "name": "stderr",
     "output_type": "stream",
     "text": [
      "/Users/yingjiang/miniconda2/lib/python2.7/site-packages/ipykernel/__main__.py:2: SettingWithCopyWarning: \n",
      "A value is trying to be set on a copy of a slice from a DataFrame\n",
      "\n",
      "See the caveats in the documentation: http://pandas.pydata.org/pandas-docs/stable/indexing.html#indexing-view-versus-copy\n",
      "  from ipykernel import kernelapp as app\n"
     ]
    }
   ],
   "source": [
    "denied = loanData[loanData.loan_granted == 0]\n",
    "denied.drop(['loan_id', 'loan_granted', 'date', 'loan_granted', 'loan_repaid'], axis=1, inplace=True)\n",
    "print denied.shape"
   ]
  },
  {
   "cell_type": "markdown",
   "metadata": {},
   "source": [
    "### 2. Convert categorical variable into numeric"
   ]
  },
  {
   "cell_type": "code",
   "execution_count": 115,
   "metadata": {
    "collapsed": false,
    "scrolled": true
   },
   "outputs": [
    {
     "name": "stderr",
     "output_type": "stream",
     "text": [
      "/Users/yingjiang/miniconda2/lib/python2.7/site-packages/ipykernel/__main__.py:2: SettingWithCopyWarning: \n",
      "A value is trying to be set on a copy of a slice from a DataFrame.\n",
      "Try using .loc[row_indexer,col_indexer] = value instead\n",
      "\n",
      "See the caveats in the documentation: http://pandas.pydata.org/pandas-docs/stable/indexing.html#indexing-view-versus-copy\n",
      "  from ipykernel import kernelapp as app\n",
      "/Users/yingjiang/miniconda2/lib/python2.7/site-packages/ipykernel/__main__.py:3: SettingWithCopyWarning: \n",
      "A value is trying to be set on a copy of a slice from a DataFrame\n",
      "\n",
      "See the caveats in the documentation: http://pandas.pydata.org/pandas-docs/stable/indexing.html#indexing-view-versus-copy\n",
      "  app.launch_new_instance()\n"
     ]
    }
   ],
   "source": [
    "for purpose in denied.loan_purpose.unique():\n",
    "    denied['purpose_'+purpose] = denied.loan_purpose.str.contains(purpose).astype(int)\n",
    "denied.drop('loan_purpose',axis=1, inplace=True)"
   ]
  },
  {
   "cell_type": "code",
   "execution_count": 116,
   "metadata": {
    "collapsed": false
   },
   "outputs": [
    {
     "data": {
      "text/html": [
       "<div>\n",
       "<table border=\"1\" class=\"dataframe\">\n",
       "  <thead>\n",
       "    <tr style=\"text-align: right;\">\n",
       "      <th></th>\n",
       "      <th>is_first_loan</th>\n",
       "      <th>fully_repaid_previous_loans</th>\n",
       "      <th>currently_repaying_other_loans</th>\n",
       "      <th>total_credit_card_limit</th>\n",
       "      <th>avg_percentage_credit_card_limit_used_last_year</th>\n",
       "      <th>saving_amount</th>\n",
       "      <th>checking_amount</th>\n",
       "      <th>is_employed</th>\n",
       "      <th>yearly_salary</th>\n",
       "      <th>age</th>\n",
       "      <th>dependent_number</th>\n",
       "      <th>purpose_business</th>\n",
       "      <th>purpose_investment</th>\n",
       "      <th>purpose_emergency_funds</th>\n",
       "      <th>purpose_other</th>\n",
       "      <th>purpose_home</th>\n",
       "    </tr>\n",
       "  </thead>\n",
       "  <tbody>\n",
       "    <tr>\n",
       "      <th>0</th>\n",
       "      <td>1</td>\n",
       "      <td>NaN</td>\n",
       "      <td>NaN</td>\n",
       "      <td>8000</td>\n",
       "      <td>0.49</td>\n",
       "      <td>3285</td>\n",
       "      <td>1073</td>\n",
       "      <td>0</td>\n",
       "      <td>0</td>\n",
       "      <td>47</td>\n",
       "      <td>3</td>\n",
       "      <td>1</td>\n",
       "      <td>0</td>\n",
       "      <td>0</td>\n",
       "      <td>0</td>\n",
       "      <td>0</td>\n",
       "    </tr>\n",
       "    <tr>\n",
       "      <th>1</th>\n",
       "      <td>0</td>\n",
       "      <td>1.0</td>\n",
       "      <td>0.0</td>\n",
       "      <td>4500</td>\n",
       "      <td>1.03</td>\n",
       "      <td>636</td>\n",
       "      <td>5299</td>\n",
       "      <td>1</td>\n",
       "      <td>13500</td>\n",
       "      <td>33</td>\n",
       "      <td>1</td>\n",
       "      <td>0</td>\n",
       "      <td>1</td>\n",
       "      <td>0</td>\n",
       "      <td>0</td>\n",
       "      <td>0</td>\n",
       "    </tr>\n",
       "    <tr>\n",
       "      <th>3</th>\n",
       "      <td>0</td>\n",
       "      <td>1.0</td>\n",
       "      <td>0.0</td>\n",
       "      <td>1200</td>\n",
       "      <td>0.82</td>\n",
       "      <td>358</td>\n",
       "      <td>3388</td>\n",
       "      <td>0</td>\n",
       "      <td>0</td>\n",
       "      <td>24</td>\n",
       "      <td>1</td>\n",
       "      <td>0</td>\n",
       "      <td>1</td>\n",
       "      <td>0</td>\n",
       "      <td>0</td>\n",
       "      <td>0</td>\n",
       "    </tr>\n",
       "    <tr>\n",
       "      <th>4</th>\n",
       "      <td>0</td>\n",
       "      <td>0.0</td>\n",
       "      <td>0.0</td>\n",
       "      <td>6900</td>\n",
       "      <td>0.80</td>\n",
       "      <td>2138</td>\n",
       "      <td>4282</td>\n",
       "      <td>1</td>\n",
       "      <td>18100</td>\n",
       "      <td>36</td>\n",
       "      <td>1</td>\n",
       "      <td>0</td>\n",
       "      <td>0</td>\n",
       "      <td>1</td>\n",
       "      <td>0</td>\n",
       "      <td>0</td>\n",
       "    </tr>\n",
       "    <tr>\n",
       "      <th>6</th>\n",
       "      <td>1</td>\n",
       "      <td>NaN</td>\n",
       "      <td>NaN</td>\n",
       "      <td>600</td>\n",
       "      <td>0.89</td>\n",
       "      <td>305</td>\n",
       "      <td>1456</td>\n",
       "      <td>0</td>\n",
       "      <td>0</td>\n",
       "      <td>50</td>\n",
       "      <td>2</td>\n",
       "      <td>0</td>\n",
       "      <td>0</td>\n",
       "      <td>1</td>\n",
       "      <td>0</td>\n",
       "      <td>0</td>\n",
       "    </tr>\n",
       "  </tbody>\n",
       "</table>\n",
       "</div>"
      ],
      "text/plain": [
       "   is_first_loan  fully_repaid_previous_loans  currently_repaying_other_loans  \\\n",
       "0              1                          NaN                             NaN   \n",
       "1              0                          1.0                             0.0   \n",
       "3              0                          1.0                             0.0   \n",
       "4              0                          0.0                             0.0   \n",
       "6              1                          NaN                             NaN   \n",
       "\n",
       "   total_credit_card_limit  avg_percentage_credit_card_limit_used_last_year  \\\n",
       "0                     8000                                             0.49   \n",
       "1                     4500                                             1.03   \n",
       "3                     1200                                             0.82   \n",
       "4                     6900                                             0.80   \n",
       "6                      600                                             0.89   \n",
       "\n",
       "   saving_amount  checking_amount  is_employed  yearly_salary  age  \\\n",
       "0           3285             1073            0              0   47   \n",
       "1            636             5299            1          13500   33   \n",
       "3            358             3388            0              0   24   \n",
       "4           2138             4282            1          18100   36   \n",
       "6            305             1456            0              0   50   \n",
       "\n",
       "   dependent_number  purpose_business  purpose_investment  \\\n",
       "0                 3                 1                   0   \n",
       "1                 1                 0                   1   \n",
       "3                 1                 0                   1   \n",
       "4                 1                 0                   0   \n",
       "6                 2                 0                   0   \n",
       "\n",
       "   purpose_emergency_funds  purpose_other  purpose_home  \n",
       "0                        0              0             0  \n",
       "1                        0              0             0  \n",
       "3                        0              0             0  \n",
       "4                        1              0             0  \n",
       "6                        1              0             0  "
      ]
     },
     "execution_count": 116,
     "metadata": {},
     "output_type": "execute_result"
    }
   ],
   "source": [
    "denied.head()"
   ]
  },
  {
   "cell_type": "markdown",
   "metadata": {},
   "source": [
    "### 3. Deal with missing values"
   ]
  },
  {
   "cell_type": "code",
   "execution_count": 117,
   "metadata": {
    "collapsed": false
   },
   "outputs": [],
   "source": [
    "denied_impNA = denied.copy()"
   ]
  },
  {
   "cell_type": "code",
   "execution_count": 118,
   "metadata": {
    "collapsed": false
   },
   "outputs": [],
   "source": [
    "r, c = KNeighborsRegressor(), KNeighborsClassifier(n_neighbors=5)\n",
    "cols_to_impute = [('fully_repaid_previous_loans', c),\n",
    "                  ('currently_repaying_other_loans', c),\n",
    "                  ('avg_percentage_credit_card_limit_used_last_year', r)]\n",
    "cols_to_scale = ['total_credit_card_limit',\n",
    "                 'saving_amount',\n",
    "                 'checking_amount',\n",
    "                 'yearly_salary',\n",
    "                 'age',\n",
    "                 'dependent_number']"
   ]
  },
  {
   "cell_type": "code",
   "execution_count": 119,
   "metadata": {
    "collapsed": true
   },
   "outputs": [],
   "source": [
    "denied_impNA[cols_to_scale] = MinMaxScaler().fit_transform(denied_impNA[cols_to_scale])"
   ]
  },
  {
   "cell_type": "code",
   "execution_count": 121,
   "metadata": {
    "collapsed": false
   },
   "outputs": [
    {
     "data": {
      "text/html": [
       "<div>\n",
       "<table border=\"1\" class=\"dataframe\">\n",
       "  <thead>\n",
       "    <tr style=\"text-align: right;\">\n",
       "      <th></th>\n",
       "      <th>is_first_loan</th>\n",
       "      <th>fully_repaid_previous_loans</th>\n",
       "      <th>currently_repaying_other_loans</th>\n",
       "      <th>total_credit_card_limit</th>\n",
       "      <th>avg_percentage_credit_card_limit_used_last_year</th>\n",
       "      <th>saving_amount</th>\n",
       "      <th>checking_amount</th>\n",
       "      <th>is_employed</th>\n",
       "      <th>yearly_salary</th>\n",
       "      <th>age</th>\n",
       "      <th>dependent_number</th>\n",
       "      <th>purpose_business</th>\n",
       "      <th>purpose_investment</th>\n",
       "      <th>purpose_emergency_funds</th>\n",
       "      <th>purpose_other</th>\n",
       "      <th>purpose_home</th>\n",
       "    </tr>\n",
       "  </thead>\n",
       "  <tbody>\n",
       "    <tr>\n",
       "      <th>0</th>\n",
       "      <td>1</td>\n",
       "      <td>NaN</td>\n",
       "      <td>NaN</td>\n",
       "      <td>0.601504</td>\n",
       "      <td>0.49</td>\n",
       "      <td>0.340133</td>\n",
       "      <td>0.077095</td>\n",
       "      <td>0</td>\n",
       "      <td>0.000000</td>\n",
       "      <td>0.475410</td>\n",
       "      <td>0.375</td>\n",
       "      <td>1</td>\n",
       "      <td>0</td>\n",
       "      <td>0</td>\n",
       "      <td>0</td>\n",
       "      <td>0</td>\n",
       "    </tr>\n",
       "    <tr>\n",
       "      <th>1</th>\n",
       "      <td>0</td>\n",
       "      <td>1.0</td>\n",
       "      <td>0.0</td>\n",
       "      <td>0.338346</td>\n",
       "      <td>1.03</td>\n",
       "      <td>0.065852</td>\n",
       "      <td>0.381014</td>\n",
       "      <td>1</td>\n",
       "      <td>0.148842</td>\n",
       "      <td>0.245902</td>\n",
       "      <td>0.125</td>\n",
       "      <td>0</td>\n",
       "      <td>1</td>\n",
       "      <td>0</td>\n",
       "      <td>0</td>\n",
       "      <td>0</td>\n",
       "    </tr>\n",
       "    <tr>\n",
       "      <th>3</th>\n",
       "      <td>0</td>\n",
       "      <td>1.0</td>\n",
       "      <td>0.0</td>\n",
       "      <td>0.090226</td>\n",
       "      <td>0.82</td>\n",
       "      <td>0.037068</td>\n",
       "      <td>0.243581</td>\n",
       "      <td>0</td>\n",
       "      <td>0.000000</td>\n",
       "      <td>0.098361</td>\n",
       "      <td>0.125</td>\n",
       "      <td>0</td>\n",
       "      <td>1</td>\n",
       "      <td>0</td>\n",
       "      <td>0</td>\n",
       "      <td>0</td>\n",
       "    </tr>\n",
       "    <tr>\n",
       "      <th>4</th>\n",
       "      <td>0</td>\n",
       "      <td>0.0</td>\n",
       "      <td>0.0</td>\n",
       "      <td>0.518797</td>\n",
       "      <td>0.80</td>\n",
       "      <td>0.221371</td>\n",
       "      <td>0.307875</td>\n",
       "      <td>1</td>\n",
       "      <td>0.199559</td>\n",
       "      <td>0.295082</td>\n",
       "      <td>0.125</td>\n",
       "      <td>0</td>\n",
       "      <td>0</td>\n",
       "      <td>1</td>\n",
       "      <td>0</td>\n",
       "      <td>0</td>\n",
       "    </tr>\n",
       "    <tr>\n",
       "      <th>6</th>\n",
       "      <td>1</td>\n",
       "      <td>NaN</td>\n",
       "      <td>NaN</td>\n",
       "      <td>0.045113</td>\n",
       "      <td>0.89</td>\n",
       "      <td>0.031580</td>\n",
       "      <td>0.104639</td>\n",
       "      <td>0</td>\n",
       "      <td>0.000000</td>\n",
       "      <td>0.524590</td>\n",
       "      <td>0.250</td>\n",
       "      <td>0</td>\n",
       "      <td>0</td>\n",
       "      <td>1</td>\n",
       "      <td>0</td>\n",
       "      <td>0</td>\n",
       "    </tr>\n",
       "  </tbody>\n",
       "</table>\n",
       "</div>"
      ],
      "text/plain": [
       "   is_first_loan  fully_repaid_previous_loans  currently_repaying_other_loans  \\\n",
       "0              1                          NaN                             NaN   \n",
       "1              0                          1.0                             0.0   \n",
       "3              0                          1.0                             0.0   \n",
       "4              0                          0.0                             0.0   \n",
       "6              1                          NaN                             NaN   \n",
       "\n",
       "   total_credit_card_limit  avg_percentage_credit_card_limit_used_last_year  \\\n",
       "0                 0.601504                                             0.49   \n",
       "1                 0.338346                                             1.03   \n",
       "3                 0.090226                                             0.82   \n",
       "4                 0.518797                                             0.80   \n",
       "6                 0.045113                                             0.89   \n",
       "\n",
       "   saving_amount  checking_amount  is_employed  yearly_salary       age  \\\n",
       "0       0.340133         0.077095            0       0.000000  0.475410   \n",
       "1       0.065852         0.381014            1       0.148842  0.245902   \n",
       "3       0.037068         0.243581            0       0.000000  0.098361   \n",
       "4       0.221371         0.307875            1       0.199559  0.295082   \n",
       "6       0.031580         0.104639            0       0.000000  0.524590   \n",
       "\n",
       "   dependent_number  purpose_business  purpose_investment  \\\n",
       "0             0.375                 1                   0   \n",
       "1             0.125                 0                   1   \n",
       "3             0.125                 0                   1   \n",
       "4             0.125                 0                   0   \n",
       "6             0.250                 0                   0   \n",
       "\n",
       "   purpose_emergency_funds  purpose_other  purpose_home  \n",
       "0                        0              0             0  \n",
       "1                        0              0             0  \n",
       "3                        0              0             0  \n",
       "4                        1              0             0  \n",
       "6                        1              0             0  "
      ]
     },
     "execution_count": 121,
     "metadata": {},
     "output_type": "execute_result"
    }
   ],
   "source": [
    "denied_impNA.head()"
   ]
  },
  {
   "cell_type": "code",
   "execution_count": 122,
   "metadata": {
    "collapsed": false,
    "scrolled": true
   },
   "outputs": [
    {
     "name": "stdout",
     "output_type": "stream",
     "text": [
      "is_first_loan                                          0\n",
      "fully_repaid_previous_loans                            0\n",
      "currently_repaying_other_loans                     29158\n",
      "total_credit_card_limit                                0\n",
      "avg_percentage_credit_card_limit_used_last_year     6069\n",
      "saving_amount                                          0\n",
      "checking_amount                                        0\n",
      "is_employed                                            0\n",
      "yearly_salary                                          0\n",
      "age                                                    0\n",
      "dependent_number                                       0\n",
      "purpose_business                                       0\n",
      "purpose_investment                                     0\n",
      "purpose_emergency_funds                                0\n",
      "purpose_other                                          0\n",
      "purpose_home                                           0\n",
      "dtype: int64\n",
      "is_first_loan                                         0\n",
      "fully_repaid_previous_loans                           0\n",
      "currently_repaying_other_loans                        0\n",
      "total_credit_card_limit                               0\n",
      "avg_percentage_credit_card_limit_used_last_year    6069\n",
      "saving_amount                                         0\n",
      "checking_amount                                       0\n",
      "is_employed                                           0\n",
      "yearly_salary                                         0\n",
      "age                                                   0\n",
      "dependent_number                                      0\n",
      "purpose_business                                      0\n",
      "purpose_investment                                    0\n",
      "purpose_emergency_funds                               0\n",
      "purpose_other                                         0\n",
      "purpose_home                                          0\n",
      "dtype: int64\n",
      "is_first_loan                                      0\n",
      "fully_repaid_previous_loans                        0\n",
      "currently_repaying_other_loans                     0\n",
      "total_credit_card_limit                            0\n",
      "avg_percentage_credit_card_limit_used_last_year    0\n",
      "saving_amount                                      0\n",
      "checking_amount                                    0\n",
      "is_employed                                        0\n",
      "yearly_salary                                      0\n",
      "age                                                0\n",
      "dependent_number                                   0\n",
      "purpose_business                                   0\n",
      "purpose_investment                                 0\n",
      "purpose_emergency_funds                            0\n",
      "purpose_other                                      0\n",
      "purpose_home                                       0\n",
      "dtype: int64\n"
     ]
    }
   ],
   "source": [
    "for col, model in cols_to_impute:\n",
    "    colImputed = fill_na_KNN(denied_impNA, col, model)\n",
    "    denied_impNA[col] = colImputed\n",
    "    print denied_impNA.isnull().sum()"
   ]
  },
  {
   "cell_type": "code",
   "execution_count": 123,
   "metadata": {
    "collapsed": true
   },
   "outputs": [],
   "source": [
    "denied_impNA_sca = denied_impNA.copy()\n",
    "denied_impNA[cols_to_scale] = denied[cols_to_scale]"
   ]
  },
  {
   "cell_type": "code",
   "execution_count": 125,
   "metadata": {
    "collapsed": false,
    "scrolled": true
   },
   "outputs": [
    {
     "name": "stdout",
     "output_type": "stream",
     "text": [
      "(53446, 16)\n"
     ]
    },
    {
     "data": {
      "text/html": [
       "<div>\n",
       "<table border=\"1\" class=\"dataframe\">\n",
       "  <thead>\n",
       "    <tr style=\"text-align: right;\">\n",
       "      <th></th>\n",
       "      <th>is_first_loan</th>\n",
       "      <th>fully_repaid_previous_loans</th>\n",
       "      <th>currently_repaying_other_loans</th>\n",
       "      <th>total_credit_card_limit</th>\n",
       "      <th>avg_percentage_credit_card_limit_used_last_year</th>\n",
       "      <th>saving_amount</th>\n",
       "      <th>checking_amount</th>\n",
       "      <th>is_employed</th>\n",
       "      <th>yearly_salary</th>\n",
       "      <th>age</th>\n",
       "      <th>dependent_number</th>\n",
       "      <th>purpose_business</th>\n",
       "      <th>purpose_investment</th>\n",
       "      <th>purpose_emergency_funds</th>\n",
       "      <th>purpose_other</th>\n",
       "      <th>purpose_home</th>\n",
       "    </tr>\n",
       "  </thead>\n",
       "  <tbody>\n",
       "    <tr>\n",
       "      <th>0</th>\n",
       "      <td>1</td>\n",
       "      <td>1.0</td>\n",
       "      <td>0.0</td>\n",
       "      <td>8000</td>\n",
       "      <td>0.49</td>\n",
       "      <td>3285</td>\n",
       "      <td>1073</td>\n",
       "      <td>0</td>\n",
       "      <td>0</td>\n",
       "      <td>47</td>\n",
       "      <td>3</td>\n",
       "      <td>1</td>\n",
       "      <td>0</td>\n",
       "      <td>0</td>\n",
       "      <td>0</td>\n",
       "      <td>0</td>\n",
       "    </tr>\n",
       "    <tr>\n",
       "      <th>1</th>\n",
       "      <td>0</td>\n",
       "      <td>1.0</td>\n",
       "      <td>0.0</td>\n",
       "      <td>4500</td>\n",
       "      <td>1.03</td>\n",
       "      <td>636</td>\n",
       "      <td>5299</td>\n",
       "      <td>1</td>\n",
       "      <td>13500</td>\n",
       "      <td>33</td>\n",
       "      <td>1</td>\n",
       "      <td>0</td>\n",
       "      <td>1</td>\n",
       "      <td>0</td>\n",
       "      <td>0</td>\n",
       "      <td>0</td>\n",
       "    </tr>\n",
       "    <tr>\n",
       "      <th>3</th>\n",
       "      <td>0</td>\n",
       "      <td>1.0</td>\n",
       "      <td>0.0</td>\n",
       "      <td>1200</td>\n",
       "      <td>0.82</td>\n",
       "      <td>358</td>\n",
       "      <td>3388</td>\n",
       "      <td>0</td>\n",
       "      <td>0</td>\n",
       "      <td>24</td>\n",
       "      <td>1</td>\n",
       "      <td>0</td>\n",
       "      <td>1</td>\n",
       "      <td>0</td>\n",
       "      <td>0</td>\n",
       "      <td>0</td>\n",
       "    </tr>\n",
       "    <tr>\n",
       "      <th>4</th>\n",
       "      <td>0</td>\n",
       "      <td>0.0</td>\n",
       "      <td>0.0</td>\n",
       "      <td>6900</td>\n",
       "      <td>0.80</td>\n",
       "      <td>2138</td>\n",
       "      <td>4282</td>\n",
       "      <td>1</td>\n",
       "      <td>18100</td>\n",
       "      <td>36</td>\n",
       "      <td>1</td>\n",
       "      <td>0</td>\n",
       "      <td>0</td>\n",
       "      <td>1</td>\n",
       "      <td>0</td>\n",
       "      <td>0</td>\n",
       "    </tr>\n",
       "    <tr>\n",
       "      <th>6</th>\n",
       "      <td>1</td>\n",
       "      <td>1.0</td>\n",
       "      <td>0.0</td>\n",
       "      <td>600</td>\n",
       "      <td>0.89</td>\n",
       "      <td>305</td>\n",
       "      <td>1456</td>\n",
       "      <td>0</td>\n",
       "      <td>0</td>\n",
       "      <td>50</td>\n",
       "      <td>2</td>\n",
       "      <td>0</td>\n",
       "      <td>0</td>\n",
       "      <td>1</td>\n",
       "      <td>0</td>\n",
       "      <td>0</td>\n",
       "    </tr>\n",
       "  </tbody>\n",
       "</table>\n",
       "</div>"
      ],
      "text/plain": [
       "   is_first_loan  fully_repaid_previous_loans  currently_repaying_other_loans  \\\n",
       "0              1                          1.0                             0.0   \n",
       "1              0                          1.0                             0.0   \n",
       "3              0                          1.0                             0.0   \n",
       "4              0                          0.0                             0.0   \n",
       "6              1                          1.0                             0.0   \n",
       "\n",
       "   total_credit_card_limit  avg_percentage_credit_card_limit_used_last_year  \\\n",
       "0                     8000                                             0.49   \n",
       "1                     4500                                             1.03   \n",
       "3                     1200                                             0.82   \n",
       "4                     6900                                             0.80   \n",
       "6                      600                                             0.89   \n",
       "\n",
       "   saving_amount  checking_amount  is_employed  yearly_salary  age  \\\n",
       "0           3285             1073            0              0   47   \n",
       "1            636             5299            1          13500   33   \n",
       "3            358             3388            0              0   24   \n",
       "4           2138             4282            1          18100   36   \n",
       "6            305             1456            0              0   50   \n",
       "\n",
       "   dependent_number  purpose_business  purpose_investment  \\\n",
       "0                 3                 1                   0   \n",
       "1                 1                 0                   1   \n",
       "3                 1                 0                   1   \n",
       "4                 1                 0                   0   \n",
       "6                 2                 0                   0   \n",
       "\n",
       "   purpose_emergency_funds  purpose_other  purpose_home  \n",
       "0                        0              0             0  \n",
       "1                        0              0             0  \n",
       "3                        0              0             0  \n",
       "4                        1              0             0  \n",
       "6                        1              0             0  "
      ]
     },
     "execution_count": 125,
     "metadata": {},
     "output_type": "execute_result"
    }
   ],
   "source": [
    "print denied_impNA.shape\n",
    "denied_impNA.head()"
   ]
  },
  {
   "cell_type": "markdown",
   "metadata": {},
   "source": [
    "## Use the RF model to predict how many cases would've repaid loans\n",
    "### 1. Make training and testing data"
   ]
  },
  {
   "cell_type": "code",
   "execution_count": 126,
   "metadata": {
    "collapsed": false
   },
   "outputs": [
    {
     "name": "stdout",
     "output_type": "stream",
     "text": [
      "(47654, 16)\n",
      "(53446, 16)\n",
      "(47654,)\n"
     ]
    }
   ],
   "source": [
    "Y_train = granted_impNA.loan_repaid\n",
    "X_train = granted_impNA.drop('loan_repaid', axis = 1)\n",
    "\n",
    "X_test = denied_impNA\n",
    "\n",
    "print X_train.shape\n",
    "print X_test.shape\n",
    "print Y_train.shape"
   ]
  },
  {
   "cell_type": "code",
   "execution_count": 138,
   "metadata": {
    "collapsed": false
   },
   "outputs": [
    {
     "name": "stdout",
     "output_type": "stream",
     "text": [
      "Model:  RandomForestClassifier(bootstrap=True, class_weight=None, criterion='gini',\n",
      "            max_depth=None, max_features='auto', max_leaf_nodes=None,\n",
      "            min_impurity_split=1e-07, min_samples_leaf=1,\n",
      "            min_samples_split=2, min_weight_fraction_leaf=0.0,\n",
      "            n_estimators=100, n_jobs=1, oob_score=False, random_state=None,\n",
      "            verbose=0, warm_start=False)\n",
      "Number of cases denied loan: 53446\n",
      "Number of cases predicted to repay loan had they been granted one:  18443\n",
      "Percentage of potential revenue lost: 0.345077274258\n"
     ]
    }
   ],
   "source": [
    "model = models.get('random forest')\n",
    "Y_test_pred = model.fit(X_train, Y_train).predict_proba(X_test)\n",
    "Y_test_pred_unpack = [pred_val.argmax() for pred_val in Y_test_pred]\n",
    "\n",
    "# cm_test = metrics.confusion_matrix(y_true = Y_test, y_pred = Y_test_pred_unpack, labels=None)\n",
    "# accuracy, sensitivity, specificity, precision = evalModel(cm_test)\n",
    "print 'Model: ', model\n",
    "print 'Number of cases denied loan:', X_test.shape[0]\n",
    "print 'Number of cases predicted to repay loan had they been granted one: ', sum(Y_test_pred_unpack)\n",
    "print 'Percentage of potential revenue lost:', sum(Y_test_pred_unpack)/float(X_test.shape[0])"
   ]
  },
  {
   "cell_type": "markdown",
   "metadata": {},
   "source": [
    "The bank missed 35% of the business it could've done by granting a loan, which in turn could've yielded a return.\n",
    "\n",
    "\n",
    "# Summary and conclusion\n",
    "\n",
    "By analyzing the loan applications where loan has been granted, we built a model that predicts an individual's ability to repay a loan at 92% accuracy. We find that the following attributes of a person helps with prediction:\n",
    "1. His/Her cash position (bank accounts, salary)\n",
    "2. His/Her credit position (total credit card limit, previous limit use)\n",
    "3. His/her age, employment status, other loan commitment and number of dependents\n",
    "4. He/She is less likely to repay the loan if the purpose of borrowing had been for emergency needs\n",
    "\n",
    "Applying the model on the cases that have been denied a loan, we find that up to 35% of these cases could have repaid the loan. Therefore our prediction would help the bank justify not to be too conservative on granting loans, which potentially causes non trivial losses."
   ]
  },
  {
   "cell_type": "code",
   "execution_count": null,
   "metadata": {
    "collapsed": true
   },
   "outputs": [],
   "source": []
  }
 ],
 "metadata": {
  "kernelspec": {
   "display_name": "Python 2",
   "language": "python",
   "name": "python2"
  },
  "language_info": {
   "codemirror_mode": {
    "name": "ipython",
    "version": 2
   },
   "file_extension": ".py",
   "mimetype": "text/x-python",
   "name": "python",
   "nbconvert_exporter": "python",
   "pygments_lexer": "ipython2",
   "version": "2.7.13"
  }
 },
 "nbformat": 4,
 "nbformat_minor": 0
}
